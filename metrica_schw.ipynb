{
 "cells": [
  {
   "cell_type": "code",
   "execution_count": 1,
   "id": "9b1a9478-3452-474a-be18-fd4baeb20dda",
   "metadata": {},
   "outputs": [],
   "source": [
    "import sympy as sp\n",
    "from sympy import symbols, sin, simplify, pprint\n",
    "from einsteinpy.symbolic import MetricTensor, ChristoffelSymbols, RiemannCurvatureTensor, RicciTensor, RicciScalar, EinsteinTensor"
   ]
  },
  {
   "cell_type": "markdown",
   "id": "3b5344d0-c3d7-43e6-9fbd-5c59b85d8d60",
   "metadata": {},
   "source": [
    "# Consideremos la siguiente métrica\n",
    "\n",
    "# $ds^2 = -f(t,r) dt^2 + \\frac{1}{h(t,r)} dr^2 + r^2 d\\Sigma^2(k)$ con $d\\Sigma^2(k) = \\frac{dx^2}{1 - kx^2} + x^2 dy^2.$"
   ]
  },
  {
   "cell_type": "code",
   "execution_count": 3,
   "id": "4808b56c-0bb9-4ba1-9f3e-d0cacd429626",
   "metadata": {},
   "outputs": [
    {
     "name": "stdout",
     "output_type": "stream",
     "text": [
      "Tensor métrico schw\n"
     ]
    },
    {
     "data": {
      "text/latex": [
       "$\\displaystyle \\left[\\begin{matrix}- f{\\left(t,r \\right)} & 0 & 0 & 0\\\\0 & \\frac{1}{h{\\left(t,r \\right)}} & 0 & 0\\\\0 & 0 & \\frac{r^{2}}{- k x^{2} + 1} & 0\\\\0 & 0 & 0 & r^{2} x^{2}\\end{matrix}\\right]$"
      ],
      "text/plain": [
       "[[-f(t, r), 0, 0, 0], [0, 1/h(t, r), 0, 0], [0, 0, r**2/(-k*x**2 + 1), 0], [0, 0, 0, r**2*x**2]]"
      ]
     },
     "execution_count": 3,
     "metadata": {},
     "output_type": "execute_result"
    }
   ],
   "source": [
    "#Definimos las funciones de la métrica\n",
    "t,r, L =  sp.symbols(\"t r Lambda\")\n",
    "symbs= sp.symbols(\"x y\")\n",
    "k, r0 = sp.symbols(\"k r_0\")\n",
    "f = sp.Function(\"f\")\n",
    "h = sp.Function(\"h\")\n",
    "m2 = sp.diag(-f(t,r), 1/h(t,r),r**2/(1-k*x**2),r**2*x**2 ).tolist()\n",
    "metric_2 = MetricTensor(m2, (t,r,x,y))\n",
    "print(\"Tensor métrico schw\")\n",
    "metric_2.tensor()"
   ]
  },
  {
   "cell_type": "code",
   "execution_count": 4,
   "id": "45bcb656-a79d-4f43-b108-86765c894f63",
   "metadata": {},
   "outputs": [
    {
     "name": "stdout",
     "output_type": "stream",
     "text": [
      "Tensor métrico schw inverso\n"
     ]
    },
    {
     "data": {
      "text/latex": [
       "$\\displaystyle \\left[\\begin{matrix}- \\frac{1}{f{\\left(t,r \\right)}} & 0 & 0 & 0\\\\0 & h{\\left(t,r \\right)} & 0 & 0\\\\0 & 0 & \\frac{- k x^{2} + 1}{r^{2}} & 0\\\\0 & 0 & 0 & \\frac{1}{r^{2} x^{2}}\\end{matrix}\\right]$"
      ],
      "text/plain": [
       "[[-1/f(t, r), 0, 0, 0], [0, h(t, r), 0, 0], [0, 0, (-k*x**2 + 1)/r**2, 0], [0, 0, 0, 1/(r**2*x**2)]]"
      ]
     },
     "execution_count": 4,
     "metadata": {},
     "output_type": "execute_result"
    }
   ],
   "source": [
    "print(\"Tensor métrico schw inverso\")\n",
    "metric_2.inv().tensor()"
   ]
  },
  {
   "cell_type": "markdown",
   "id": "dbc6b741-c4ce-4244-b614-f0f11a863541",
   "metadata": {},
   "source": [
    "# $ \\Gamma ^{\\alpha}_{\\hspace{3mm} \\beta \\gamma} = \\frac{1}{2} g^{\\alpha \\rho} (\\partial_{\\beta} g_{\\gamma \\rho} + \\partial_{\\gamma} g_{\\beta \\rho} - \\partial_{\\rho} g_{\\gamma \\beta} )$"
   ]
  },
  {
   "cell_type": "code",
   "execution_count": 5,
   "id": "d1e9207d-c661-42a5-a806-4b284032e7c6",
   "metadata": {},
   "outputs": [
    {
     "name": "stdout",
     "output_type": "stream",
     "text": [
      "Simbolos de Christoffel schw\n"
     ]
    },
    {
     "data": {
      "text/latex": [
       "$\\displaystyle \\left[\\begin{matrix}\\left[\\begin{matrix}\\frac{\\frac{\\partial}{\\partial t} f{\\left(t,r \\right)}}{2 f{\\left(t,r \\right)}} & \\frac{\\frac{\\partial}{\\partial r} f{\\left(t,r \\right)}}{2 f{\\left(t,r \\right)}} & 0 & 0\\\\\\frac{\\frac{\\partial}{\\partial r} f{\\left(t,r \\right)}}{2 f{\\left(t,r \\right)}} & - \\frac{\\frac{\\partial}{\\partial t} h{\\left(t,r \\right)}}{2 f{\\left(t,r \\right)} h^{2}{\\left(t,r \\right)}} & 0 & 0\\\\0 & 0 & 0 & 0\\\\0 & 0 & 0 & 0\\end{matrix}\\right] & \\left[\\begin{matrix}\\frac{h{\\left(t,r \\right)} \\frac{\\partial}{\\partial r} f{\\left(t,r \\right)}}{2} & - \\frac{\\frac{\\partial}{\\partial t} h{\\left(t,r \\right)}}{2 h{\\left(t,r \\right)}} & 0 & 0\\\\- \\frac{\\frac{\\partial}{\\partial t} h{\\left(t,r \\right)}}{2 h{\\left(t,r \\right)}} & - \\frac{\\frac{\\partial}{\\partial r} h{\\left(t,r \\right)}}{2 h{\\left(t,r \\right)}} & 0 & 0\\\\0 & 0 & - \\frac{r h{\\left(t,r \\right)}}{- k x^{2} + 1} & 0\\\\0 & 0 & 0 & - r x^{2} h{\\left(t,r \\right)}\\end{matrix}\\right] & \\left[\\begin{matrix}0 & 0 & 0 & 0\\\\0 & 0 & \\frac{1}{r} & 0\\\\0 & \\frac{1}{r} & \\frac{k x}{- k x^{2} + 1} & 0\\\\0 & 0 & 0 & - x \\left(- k x^{2} + 1\\right)\\end{matrix}\\right] & \\left[\\begin{matrix}0 & 0 & 0 & 0\\\\0 & 0 & 0 & \\frac{1}{r}\\\\0 & 0 & 0 & \\frac{1}{x}\\\\0 & \\frac{1}{r} & \\frac{1}{x} & 0\\end{matrix}\\right]\\end{matrix}\\right]$"
      ],
      "text/plain": [
       "[[[Derivative(f(t, r), t)/(2*f(t, r)), Derivative(f(t, r), r)/(2*f(t, r)), 0, 0], [Derivative(f(t, r), r)/(2*f(t, r)), -Derivative(h(t, r), t)/(2*f(t, r)*h(t, r)**2), 0, 0], [0, 0, 0, 0], [0, 0, 0, 0]], [[h(t, r)*Derivative(f(t, r), r)/2, -Derivative(h(t, r), t)/(2*h(t, r)), 0, 0], [-Derivative(h(t, r), t)/(2*h(t, r)), -Derivative(h(t, r), r)/(2*h(t, r)), 0, 0], [0, 0, -r*h(t, r)/(-k*x**2 + 1), 0], [0, 0, 0, -r*x**2*h(t, r)]], [[0, 0, 0, 0], [0, 0, 1/r, 0], [0, 1/r, k*x/(-k*x**2 + 1), 0], [0, 0, 0, -x*(-k*x**2 + 1)]], [[0, 0, 0, 0], [0, 0, 0, 1/r], [0, 0, 0, 1/x], [0, 1/r, 1/x, 0]]]"
      ]
     },
     "execution_count": 5,
     "metadata": {},
     "output_type": "execute_result"
    }
   ],
   "source": [
    "print(\"Simbolos de Christoffel schw\")\n",
    "smb= ChristoffelSymbols.from_metric(metric_2)\n",
    "smb.tensor()"
   ]
  },
  {
   "cell_type": "markdown",
   "id": "87741583-1fde-4a86-b476-066756e148b4",
   "metadata": {},
   "source": [
    "# $R^{\\rho}_{\\;\\sigma\\mu\\nu} = \\partial_\\mu \\Gamma^{\\rho}_{\\nu\\sigma} - \\partial_\\nu \\Gamma^{\\rho}_{\\mu\\sigma} + \\Gamma^{\\rho}_{\\mu\\lambda}\\Gamma^{\\lambda}_{\\nu\\sigma} - \\Gamma^{\\rho}_{\\nu\\lambda}\\Gamma^{\\lambda}_{\\mu\\sigma}$"
   ]
  },
  {
   "cell_type": "code",
   "execution_count": 6,
   "id": "37f6f130-5b8c-4f46-af1f-7686dbc2de4e",
   "metadata": {},
   "outputs": [
    {
     "name": "stdout",
     "output_type": "stream",
     "text": [
      "Tensor de Curvatura schw\n"
     ]
    },
    {
     "data": {
      "text/latex": [
       "$\\displaystyle \\left[\\begin{matrix}\\left[\\begin{matrix}0 & 0 & 0 & 0\\\\0 & 0 & 0 & 0\\\\0 & 0 & 0 & 0\\\\0 & 0 & 0 & 0\\end{matrix}\\right] & \\left[\\begin{matrix}0 & \\frac{- 2 f{\\left(t,r \\right)} h^{3}{\\left(t,r \\right)} \\frac{\\partial^{2}}{\\partial r^{2}} f{\\left(t,r \\right)} - f{\\left(t,r \\right)} h^{2}{\\left(t,r \\right)} \\frac{\\partial}{\\partial r} f{\\left(t,r \\right)} \\frac{\\partial}{\\partial r} h{\\left(t,r \\right)} - 2 f{\\left(t,r \\right)} h{\\left(t,r \\right)} \\frac{\\partial^{2}}{\\partial t^{2}} h{\\left(t,r \\right)} + 3 f{\\left(t,r \\right)} \\left(\\frac{\\partial}{\\partial t} h{\\left(t,r \\right)}\\right)^{2} + h^{3}{\\left(t,r \\right)} \\left(\\frac{\\partial}{\\partial r} f{\\left(t,r \\right)}\\right)^{2} + h{\\left(t,r \\right)} \\frac{\\partial}{\\partial t} f{\\left(t,r \\right)} \\frac{\\partial}{\\partial t} h{\\left(t,r \\right)}}{4 f^{2}{\\left(t,r \\right)} h^{3}{\\left(t,r \\right)}} & 0 & 0\\\\\\frac{2 f{\\left(t,r \\right)} h^{3}{\\left(t,r \\right)} \\frac{\\partial^{2}}{\\partial r^{2}} f{\\left(t,r \\right)} + f{\\left(t,r \\right)} h^{2}{\\left(t,r \\right)} \\frac{\\partial}{\\partial r} f{\\left(t,r \\right)} \\frac{\\partial}{\\partial r} h{\\left(t,r \\right)} + 2 f{\\left(t,r \\right)} h{\\left(t,r \\right)} \\frac{\\partial^{2}}{\\partial t^{2}} h{\\left(t,r \\right)} - 3 f{\\left(t,r \\right)} \\left(\\frac{\\partial}{\\partial t} h{\\left(t,r \\right)}\\right)^{2} - h^{3}{\\left(t,r \\right)} \\left(\\frac{\\partial}{\\partial r} f{\\left(t,r \\right)}\\right)^{2} - h{\\left(t,r \\right)} \\frac{\\partial}{\\partial t} f{\\left(t,r \\right)} \\frac{\\partial}{\\partial t} h{\\left(t,r \\right)}}{4 f^{2}{\\left(t,r \\right)} h^{3}{\\left(t,r \\right)}} & 0 & 0 & 0\\\\0 & 0 & 0 & 0\\\\0 & 0 & 0 & 0\\end{matrix}\\right] & \\left[\\begin{matrix}0 & 0 & \\frac{r h{\\left(t,r \\right)} \\frac{\\partial}{\\partial r} f{\\left(t,r \\right)}}{2 \\left(k x^{2} - 1\\right) f{\\left(t,r \\right)}} & 0\\\\0 & 0 & - \\frac{r \\frac{\\partial}{\\partial t} h{\\left(t,r \\right)}}{2 \\left(k x^{2} - 1\\right) f{\\left(t,r \\right)} h{\\left(t,r \\right)}} & 0\\\\- \\frac{r h{\\left(t,r \\right)} \\frac{\\partial}{\\partial r} f{\\left(t,r \\right)}}{2 \\left(k x^{2} - 1\\right) f{\\left(t,r \\right)}} & \\frac{r \\frac{\\partial}{\\partial t} h{\\left(t,r \\right)}}{2 \\left(k x^{2} - 1\\right) f{\\left(t,r \\right)} h{\\left(t,r \\right)}} & 0 & 0\\\\0 & 0 & 0 & 0\\end{matrix}\\right] & \\left[\\begin{matrix}0 & 0 & 0 & - \\frac{r x^{2} h{\\left(t,r \\right)} \\frac{\\partial}{\\partial r} f{\\left(t,r \\right)}}{2 f{\\left(t,r \\right)}}\\\\0 & 0 & 0 & \\frac{r x^{2} \\frac{\\partial}{\\partial t} h{\\left(t,r \\right)}}{2 f{\\left(t,r \\right)} h{\\left(t,r \\right)}}\\\\0 & 0 & 0 & 0\\\\\\frac{r x^{2} h{\\left(t,r \\right)} \\frac{\\partial}{\\partial r} f{\\left(t,r \\right)}}{2 f{\\left(t,r \\right)}} & - \\frac{r x^{2} \\frac{\\partial}{\\partial t} h{\\left(t,r \\right)}}{2 f{\\left(t,r \\right)} h{\\left(t,r \\right)}} & 0 & 0\\end{matrix}\\right]\\\\\\left[\\begin{matrix}0 & - \\frac{h{\\left(t,r \\right)} \\frac{\\partial^{2}}{\\partial r^{2}} f{\\left(t,r \\right)}}{2} - \\frac{\\frac{\\partial}{\\partial r} f{\\left(t,r \\right)} \\frac{\\partial}{\\partial r} h{\\left(t,r \\right)}}{4} - \\frac{\\frac{\\partial^{2}}{\\partial t^{2}} h{\\left(t,r \\right)}}{2 h{\\left(t,r \\right)}} + \\frac{3 \\left(\\frac{\\partial}{\\partial t} h{\\left(t,r \\right)}\\right)^{2}}{4 h^{2}{\\left(t,r \\right)}} + \\frac{h{\\left(t,r \\right)} \\left(\\frac{\\partial}{\\partial r} f{\\left(t,r \\right)}\\right)^{2}}{4 f{\\left(t,r \\right)}} + \\frac{\\frac{\\partial}{\\partial t} f{\\left(t,r \\right)} \\frac{\\partial}{\\partial t} h{\\left(t,r \\right)}}{4 f{\\left(t,r \\right)} h{\\left(t,r \\right)}} & 0 & 0\\\\\\frac{h{\\left(t,r \\right)} \\frac{\\partial^{2}}{\\partial r^{2}} f{\\left(t,r \\right)}}{2} + \\frac{\\frac{\\partial}{\\partial r} f{\\left(t,r \\right)} \\frac{\\partial}{\\partial r} h{\\left(t,r \\right)}}{4} + \\frac{\\frac{\\partial^{2}}{\\partial t^{2}} h{\\left(t,r \\right)}}{2 h{\\left(t,r \\right)}} - \\frac{3 \\left(\\frac{\\partial}{\\partial t} h{\\left(t,r \\right)}\\right)^{2}}{4 h^{2}{\\left(t,r \\right)}} - \\frac{h{\\left(t,r \\right)} \\left(\\frac{\\partial}{\\partial r} f{\\left(t,r \\right)}\\right)^{2}}{4 f{\\left(t,r \\right)}} - \\frac{\\frac{\\partial}{\\partial t} f{\\left(t,r \\right)} \\frac{\\partial}{\\partial t} h{\\left(t,r \\right)}}{4 f{\\left(t,r \\right)} h{\\left(t,r \\right)}} & 0 & 0 & 0\\\\0 & 0 & 0 & 0\\\\0 & 0 & 0 & 0\\end{matrix}\\right] & \\left[\\begin{matrix}0 & 0 & 0 & 0\\\\0 & 0 & 0 & 0\\\\0 & 0 & 0 & 0\\\\0 & 0 & 0 & 0\\end{matrix}\\right] & \\left[\\begin{matrix}0 & 0 & \\frac{r \\frac{\\partial}{\\partial t} h{\\left(t,r \\right)}}{2 \\left(k x^{2} - 1\\right)} & 0\\\\0 & 0 & \\frac{r \\frac{\\partial}{\\partial r} h{\\left(t,r \\right)}}{2 \\left(k x^{2} - 1\\right)} & 0\\\\- \\frac{r \\frac{\\partial}{\\partial t} h{\\left(t,r \\right)}}{2 k x^{2} - 2} & - \\frac{r \\frac{\\partial}{\\partial r} h{\\left(t,r \\right)}}{2 k x^{2} - 2} & 0 & 0\\\\0 & 0 & 0 & 0\\end{matrix}\\right] & \\left[\\begin{matrix}0 & 0 & 0 & - \\frac{r x^{2} \\frac{\\partial}{\\partial t} h{\\left(t,r \\right)}}{2}\\\\0 & 0 & 0 & - \\frac{r x^{2} \\frac{\\partial}{\\partial r} h{\\left(t,r \\right)}}{2}\\\\0 & 0 & 0 & 0\\\\\\frac{r x^{2} \\frac{\\partial}{\\partial t} h{\\left(t,r \\right)}}{2} & \\frac{r x^{2} \\frac{\\partial}{\\partial r} h{\\left(t,r \\right)}}{2} & 0 & 0\\end{matrix}\\right]\\\\\\left[\\begin{matrix}0 & 0 & - \\frac{h{\\left(t,r \\right)} \\frac{\\partial}{\\partial r} f{\\left(t,r \\right)}}{2 r} & 0\\\\0 & 0 & \\frac{\\frac{\\partial}{\\partial t} h{\\left(t,r \\right)}}{2 r h{\\left(t,r \\right)}} & 0\\\\\\frac{h{\\left(t,r \\right)} \\frac{\\partial}{\\partial r} f{\\left(t,r \\right)}}{2 r} & - \\frac{\\frac{\\partial}{\\partial t} h{\\left(t,r \\right)}}{2 r h{\\left(t,r \\right)}} & 0 & 0\\\\0 & 0 & 0 & 0\\end{matrix}\\right] & \\left[\\begin{matrix}0 & 0 & \\frac{\\frac{\\partial}{\\partial t} h{\\left(t,r \\right)}}{2 r h{\\left(t,r \\right)}} & 0\\\\0 & 0 & \\frac{\\frac{\\partial}{\\partial r} h{\\left(t,r \\right)}}{2 r h{\\left(t,r \\right)}} & 0\\\\- \\frac{\\frac{\\partial}{\\partial t} h{\\left(t,r \\right)}}{2 r h{\\left(t,r \\right)}} & - \\frac{\\frac{\\partial}{\\partial r} h{\\left(t,r \\right)}}{2 r h{\\left(t,r \\right)}} & 0 & 0\\\\0 & 0 & 0 & 0\\end{matrix}\\right] & \\left[\\begin{matrix}0 & 0 & 0 & 0\\\\0 & 0 & 0 & 0\\\\0 & 0 & 0 & 0\\\\0 & 0 & 0 & 0\\end{matrix}\\right] & \\left[\\begin{matrix}0 & 0 & 0 & 0\\\\0 & 0 & 0 & 0\\\\0 & 0 & 0 & x^{2} \\left(k - h{\\left(t,r \\right)}\\right)\\\\0 & 0 & x^{2} \\left(- k + h{\\left(t,r \\right)}\\right) & 0\\end{matrix}\\right]\\\\\\left[\\begin{matrix}0 & 0 & 0 & - \\frac{h{\\left(t,r \\right)} \\frac{\\partial}{\\partial r} f{\\left(t,r \\right)}}{2 r}\\\\0 & 0 & 0 & \\frac{\\frac{\\partial}{\\partial t} h{\\left(t,r \\right)}}{2 r h{\\left(t,r \\right)}}\\\\0 & 0 & 0 & 0\\\\\\frac{h{\\left(t,r \\right)} \\frac{\\partial}{\\partial r} f{\\left(t,r \\right)}}{2 r} & - \\frac{\\frac{\\partial}{\\partial t} h{\\left(t,r \\right)}}{2 r h{\\left(t,r \\right)}} & 0 & 0\\end{matrix}\\right] & \\left[\\begin{matrix}0 & 0 & 0 & \\frac{\\frac{\\partial}{\\partial t} h{\\left(t,r \\right)}}{2 r h{\\left(t,r \\right)}}\\\\0 & 0 & 0 & \\frac{\\frac{\\partial}{\\partial r} h{\\left(t,r \\right)}}{2 r h{\\left(t,r \\right)}}\\\\0 & 0 & 0 & 0\\\\- \\frac{\\frac{\\partial}{\\partial t} h{\\left(t,r \\right)}}{2 r h{\\left(t,r \\right)}} & - \\frac{\\frac{\\partial}{\\partial r} h{\\left(t,r \\right)}}{2 r h{\\left(t,r \\right)}} & 0 & 0\\end{matrix}\\right] & \\left[\\begin{matrix}0 & 0 & 0 & 0\\\\0 & 0 & 0 & 0\\\\0 & 0 & 0 & \\frac{k - h{\\left(t,r \\right)}}{k x^{2} - 1}\\\\0 & 0 & \\frac{- k + h{\\left(t,r \\right)}}{k x^{2} - 1} & 0\\end{matrix}\\right] & \\left[\\begin{matrix}0 & 0 & 0 & 0\\\\0 & 0 & 0 & 0\\\\0 & 0 & 0 & 0\\\\0 & 0 & 0 & 0\\end{matrix}\\right]\\end{matrix}\\right]$"
      ],
      "text/plain": [
       "[[[[0, 0, 0, 0], [0, 0, 0, 0], [0, 0, 0, 0], [0, 0, 0, 0]], [[0, (-2*f(t, r)*h(t, r)**3*Derivative(f(t, r), (r, 2)) - f(t, r)*h(t, r)**2*Derivative(f(t, r), r)*Derivative(h(t, r), r) - 2*f(t, r)*h(t, r)*Derivative(h(t, r), (t, 2)) + 3*f(t, r)*Derivative(h(t, r), t)**2 + h(t, r)**3*Derivative(f(t, r), r)**2 + h(t, r)*Derivative(f(t, r), t)*Derivative(h(t, r), t))/(4*f(t, r)**2*h(t, r)**3), 0, 0], [(2*f(t, r)*h(t, r)**3*Derivative(f(t, r), (r, 2)) + f(t, r)*h(t, r)**2*Derivative(f(t, r), r)*Derivative(h(t, r), r) + 2*f(t, r)*h(t, r)*Derivative(h(t, r), (t, 2)) - 3*f(t, r)*Derivative(h(t, r), t)**2 - h(t, r)**3*Derivative(f(t, r), r)**2 - h(t, r)*Derivative(f(t, r), t)*Derivative(h(t, r), t))/(4*f(t, r)**2*h(t, r)**3), 0, 0, 0], [0, 0, 0, 0], [0, 0, 0, 0]], [[0, 0, r*h(t, r)*Derivative(f(t, r), r)/(2*(k*x**2 - 1)*f(t, r)), 0], [0, 0, -r*Derivative(h(t, r), t)/(2*(k*x**2 - 1)*f(t, r)*h(t, r)), 0], [-r*h(t, r)*Derivative(f(t, r), r)/(2*(k*x**2 - 1)*f(t, r)), r*Derivative(h(t, r), t)/(2*(k*x**2 - 1)*f(t, r)*h(t, r)), 0, 0], [0, 0, 0, 0]], [[0, 0, 0, -r*x**2*h(t, r)*Derivative(f(t, r), r)/(2*f(t, r))], [0, 0, 0, r*x**2*Derivative(h(t, r), t)/(2*f(t, r)*h(t, r))], [0, 0, 0, 0], [r*x**2*h(t, r)*Derivative(f(t, r), r)/(2*f(t, r)), -r*x**2*Derivative(h(t, r), t)/(2*f(t, r)*h(t, r)), 0, 0]]], [[[0, -h(t, r)*Derivative(f(t, r), (r, 2))/2 - Derivative(f(t, r), r)*Derivative(h(t, r), r)/4 - Derivative(h(t, r), (t, 2))/(2*h(t, r)) + 3*Derivative(h(t, r), t)**2/(4*h(t, r)**2) + h(t, r)*Derivative(f(t, r), r)**2/(4*f(t, r)) + Derivative(f(t, r), t)*Derivative(h(t, r), t)/(4*f(t, r)*h(t, r)), 0, 0], [h(t, r)*Derivative(f(t, r), (r, 2))/2 + Derivative(f(t, r), r)*Derivative(h(t, r), r)/4 + Derivative(h(t, r), (t, 2))/(2*h(t, r)) - 3*Derivative(h(t, r), t)**2/(4*h(t, r)**2) - h(t, r)*Derivative(f(t, r), r)**2/(4*f(t, r)) - Derivative(f(t, r), t)*Derivative(h(t, r), t)/(4*f(t, r)*h(t, r)), 0, 0, 0], [0, 0, 0, 0], [0, 0, 0, 0]], [[0, 0, 0, 0], [0, 0, 0, 0], [0, 0, 0, 0], [0, 0, 0, 0]], [[0, 0, r*Derivative(h(t, r), t)/(2*(k*x**2 - 1)), 0], [0, 0, r*Derivative(h(t, r), r)/(2*(k*x**2 - 1)), 0], [-r*Derivative(h(t, r), t)/(2*k*x**2 - 2), -r*Derivative(h(t, r), r)/(2*k*x**2 - 2), 0, 0], [0, 0, 0, 0]], [[0, 0, 0, -r*x**2*Derivative(h(t, r), t)/2], [0, 0, 0, -r*x**2*Derivative(h(t, r), r)/2], [0, 0, 0, 0], [r*x**2*Derivative(h(t, r), t)/2, r*x**2*Derivative(h(t, r), r)/2, 0, 0]]], [[[0, 0, -h(t, r)*Derivative(f(t, r), r)/(2*r), 0], [0, 0, Derivative(h(t, r), t)/(2*r*h(t, r)), 0], [h(t, r)*Derivative(f(t, r), r)/(2*r), -Derivative(h(t, r), t)/(2*r*h(t, r)), 0, 0], [0, 0, 0, 0]], [[0, 0, Derivative(h(t, r), t)/(2*r*h(t, r)), 0], [0, 0, Derivative(h(t, r), r)/(2*r*h(t, r)), 0], [-Derivative(h(t, r), t)/(2*r*h(t, r)), -Derivative(h(t, r), r)/(2*r*h(t, r)), 0, 0], [0, 0, 0, 0]], [[0, 0, 0, 0], [0, 0, 0, 0], [0, 0, 0, 0], [0, 0, 0, 0]], [[0, 0, 0, 0], [0, 0, 0, 0], [0, 0, 0, x**2*(k - h(t, r))], [0, 0, x**2*(-k + h(t, r)), 0]]], [[[0, 0, 0, -h(t, r)*Derivative(f(t, r), r)/(2*r)], [0, 0, 0, Derivative(h(t, r), t)/(2*r*h(t, r))], [0, 0, 0, 0], [h(t, r)*Derivative(f(t, r), r)/(2*r), -Derivative(h(t, r), t)/(2*r*h(t, r)), 0, 0]], [[0, 0, 0, Derivative(h(t, r), t)/(2*r*h(t, r))], [0, 0, 0, Derivative(h(t, r), r)/(2*r*h(t, r))], [0, 0, 0, 0], [-Derivative(h(t, r), t)/(2*r*h(t, r)), -Derivative(h(t, r), r)/(2*r*h(t, r)), 0, 0]], [[0, 0, 0, 0], [0, 0, 0, 0], [0, 0, 0, (k - h(t, r))/(k*x**2 - 1)], [0, 0, (-k + h(t, r))/(k*x**2 - 1), 0]], [[0, 0, 0, 0], [0, 0, 0, 0], [0, 0, 0, 0], [0, 0, 0, 0]]]]"
      ]
     },
     "execution_count": 6,
     "metadata": {},
     "output_type": "execute_result"
    }
   ],
   "source": [
    "print(\"Tensor de Curvatura schw\")\n",
    "rm2 = RiemannCurvatureTensor.from_metric(metric_2)\n",
    "rm2.tensor().simplify()"
   ]
  },
  {
   "cell_type": "code",
   "execution_count": 7,
   "id": "ecebb843-cbcd-4167-96a9-16379439dfb4",
   "metadata": {},
   "outputs": [
    {
     "name": "stdout",
     "output_type": "stream",
     "text": [
      "Tensor de Ricci schw\n"
     ]
    },
    {
     "data": {
      "text/latex": [
       "$\\displaystyle \\left[\\begin{matrix}\\frac{h{\\left(t,r \\right)} \\frac{\\partial^{2}}{\\partial r^{2}} f{\\left(t,r \\right)}}{2} + \\frac{\\frac{\\partial}{\\partial r} f{\\left(t,r \\right)} \\frac{\\partial}{\\partial r} h{\\left(t,r \\right)}}{4} + \\frac{\\frac{\\partial^{2}}{\\partial t^{2}} h{\\left(t,r \\right)}}{2 h{\\left(t,r \\right)}} - \\frac{3 \\left(\\frac{\\partial}{\\partial t} h{\\left(t,r \\right)}\\right)^{2}}{4 h^{2}{\\left(t,r \\right)}} - \\frac{h{\\left(t,r \\right)} \\left(\\frac{\\partial}{\\partial r} f{\\left(t,r \\right)}\\right)^{2}}{4 f{\\left(t,r \\right)}} - \\frac{\\frac{\\partial}{\\partial t} f{\\left(t,r \\right)} \\frac{\\partial}{\\partial t} h{\\left(t,r \\right)}}{4 f{\\left(t,r \\right)} h{\\left(t,r \\right)}} + \\frac{h{\\left(t,r \\right)} \\frac{\\partial}{\\partial r} f{\\left(t,r \\right)}}{r} & - \\frac{\\frac{\\partial}{\\partial t} h{\\left(t,r \\right)}}{r h{\\left(t,r \\right)}} & 0 & 0\\\\- \\frac{\\frac{\\partial}{\\partial t} h{\\left(t,r \\right)}}{r h{\\left(t,r \\right)}} & - \\frac{\\frac{\\partial^{2}}{\\partial r^{2}} f{\\left(t,r \\right)}}{2 f{\\left(t,r \\right)}} - \\frac{\\frac{\\partial}{\\partial r} f{\\left(t,r \\right)} \\frac{\\partial}{\\partial r} h{\\left(t,r \\right)}}{4 f{\\left(t,r \\right)} h{\\left(t,r \\right)}} - \\frac{\\frac{\\partial^{2}}{\\partial t^{2}} h{\\left(t,r \\right)}}{2 f{\\left(t,r \\right)} h^{2}{\\left(t,r \\right)}} + \\frac{3 \\left(\\frac{\\partial}{\\partial t} h{\\left(t,r \\right)}\\right)^{2}}{4 f{\\left(t,r \\right)} h^{3}{\\left(t,r \\right)}} + \\frac{\\left(\\frac{\\partial}{\\partial r} f{\\left(t,r \\right)}\\right)^{2}}{4 f^{2}{\\left(t,r \\right)}} + \\frac{\\frac{\\partial}{\\partial t} f{\\left(t,r \\right)} \\frac{\\partial}{\\partial t} h{\\left(t,r \\right)}}{4 f^{2}{\\left(t,r \\right)} h^{2}{\\left(t,r \\right)}} - \\frac{\\frac{\\partial}{\\partial r} h{\\left(t,r \\right)}}{r h{\\left(t,r \\right)}} & 0 & 0\\\\0 & 0 & \\frac{r f{\\left(t,r \\right)} \\frac{\\partial}{\\partial r} h{\\left(t,r \\right)} + r h{\\left(t,r \\right)} \\frac{\\partial}{\\partial r} f{\\left(t,r \\right)} + 2 \\left(- k + h{\\left(t,r \\right)}\\right) f{\\left(t,r \\right)}}{2 \\left(k x^{2} - 1\\right) f{\\left(t,r \\right)}} & 0\\\\0 & 0 & 0 & \\frac{x^{2} \\left(- r h{\\left(t,r \\right)} \\frac{\\partial}{\\partial r} f{\\left(t,r \\right)} + \\left(2 k - r \\frac{\\partial}{\\partial r} h{\\left(t,r \\right)} - 2 h{\\left(t,r \\right)}\\right) f{\\left(t,r \\right)}\\right)}{2 f{\\left(t,r \\right)}}\\end{matrix}\\right]$"
      ],
      "text/plain": [
       "[[h(t, r)*Derivative(f(t, r), (r, 2))/2 + Derivative(f(t, r), r)*Derivative(h(t, r), r)/4 + Derivative(h(t, r), (t, 2))/(2*h(t, r)) - 3*Derivative(h(t, r), t)**2/(4*h(t, r)**2) - h(t, r)*Derivative(f(t, r), r)**2/(4*f(t, r)) - Derivative(f(t, r), t)*Derivative(h(t, r), t)/(4*f(t, r)*h(t, r)) + h(t, r)*Derivative(f(t, r), r)/r, -Derivative(h(t, r), t)/(r*h(t, r)), 0, 0], [-Derivative(h(t, r), t)/(r*h(t, r)), -Derivative(f(t, r), (r, 2))/(2*f(t, r)) - Derivative(f(t, r), r)*Derivative(h(t, r), r)/(4*f(t, r)*h(t, r)) - Derivative(h(t, r), (t, 2))/(2*f(t, r)*h(t, r)**2) + 3*Derivative(h(t, r), t)**2/(4*f(t, r)*h(t, r)**3) + Derivative(f(t, r), r)**2/(4*f(t, r)**2) + Derivative(f(t, r), t)*Derivative(h(t, r), t)/(4*f(t, r)**2*h(t, r)**2) - Derivative(h(t, r), r)/(r*h(t, r)), 0, 0], [0, 0, (r*f(t, r)*Derivative(h(t, r), r) + r*h(t, r)*Derivative(f(t, r), r) + 2*(-k + h(t, r))*f(t, r))/(2*(k*x**2 - 1)*f(t, r)), 0], [0, 0, 0, x**2*(-r*h(t, r)*Derivative(f(t, r), r) + (2*k - r*Derivative(h(t, r), r) - 2*h(t, r))*f(t, r))/(2*f(t, r))]]"
      ]
     },
     "execution_count": 7,
     "metadata": {},
     "output_type": "execute_result"
    }
   ],
   "source": [
    "print(\"Tensor de Ricci schw\")\n",
    "rt = RicciTensor.from_metric(metric_2)\n",
    "rt.tensor()"
   ]
  },
  {
   "cell_type": "markdown",
   "id": "e94d6c66-dd77-4695-889f-db5310a46429",
   "metadata": {},
   "source": [
    "#  Consideremos la  métrica\n",
    "\n",
    "# $ds^2 = -f(r) dt^2 + \\frac{1}{f(r)} dr^2 + r^2 d\\Sigma^2(k)$ con $d\\Sigma^2(k) = \\frac{dx^2}{1 - kx^2} + x^2 dy^2$ y$f(r)= k - \\frac{\\Lambda r^2}{3} - \\frac{2m}{r}$.\n"
   ]
  },
  {
   "cell_type": "code",
   "execution_count": 9,
   "id": "afea1696-7a5b-44b7-afc8-9301dbf568c2",
   "metadata": {},
   "outputs": [
    {
     "name": "stdout",
     "output_type": "stream",
     "text": [
      "Tensor métrico\n"
     ]
    },
    {
     "data": {
      "text/latex": [
       "$\\displaystyle \\left[\\begin{matrix}\\frac{\\Lambda r^{2}}{3} + \\frac{2 m}{r} - 1 & 0 & 0 & 0\\\\0 & \\frac{1}{- \\frac{\\Lambda r^{2}}{3} - \\frac{2 m}{r} + 1} & 0 & 0\\\\0 & 0 & \\frac{r^{2}}{- k x^{2} + 1} & 0\\\\0 & 0 & 0 & r^{2} x^{2}\\end{matrix}\\right]$"
      ],
      "text/plain": [
       "[[Lambda*r**2/3 + 2*m/r - 1, 0, 0, 0], [0, 1/(-Lambda*r**2/3 - 2*m/r + 1), 0, 0], [0, 0, r**2/(-k*x**2 + 1), 0], [0, 0, 0, r**2*x**2]]"
      ]
     },
     "execution_count": 9,
     "metadata": {},
     "output_type": "execute_result"
    }
   ],
   "source": [
    "#Definimos las funciones de la métrica\n",
    "t,r, L, m =  sp.symbols(\"t r Lambda m\")\n",
    "#f = sp.Function(\"f\")\n",
    "#h = sp.Function(\"h\")\n",
    "f = 1-2*m/r- L*r**2/3\n",
    "m2 = sp.diag(-f, 1/f,r**2/(1-k*x**2),r**2*x**2 ).tolist()\n",
    "metric_2 = MetricTensor(m2, (t,r,x,y))\n",
    "print(\"Tensor métrico\")\n",
    "metric_2.tensor()"
   ]
  },
  {
   "cell_type": "code",
   "execution_count": 11,
   "id": "b587b8b1-5a1f-4577-8997-f56dcd1bfbf5",
   "metadata": {},
   "outputs": [
    {
     "name": "stdout",
     "output_type": "stream",
     "text": [
      "Símbolos de Chistoffel\n"
     ]
    },
    {
     "data": {
      "text/latex": [
       "$\\displaystyle \\left[\\begin{matrix}\\left[\\begin{matrix}0 & \\frac{3 r \\left(\\frac{2 \\Lambda r}{3} - \\frac{2 m}{r^{2}}\\right)}{2 \\left(\\Lambda r^{3} + 6 m - 3 r\\right)} & 0 & 0\\\\\\frac{3 r \\left(\\frac{2 \\Lambda r}{3} - \\frac{2 m}{r^{2}}\\right)}{2 \\left(\\Lambda r^{3} + 6 m - 3 r\\right)} & 0 & 0 & 0\\\\0 & 0 & 0 & 0\\\\0 & 0 & 0 & 0\\end{matrix}\\right] & \\left[\\begin{matrix}\\frac{\\left(- \\frac{2 \\Lambda r}{3} + \\frac{2 m}{r^{2}}\\right) \\left(- \\Lambda r^{3} - 6 m + 3 r\\right)}{6 r} & 0 & 0 & 0\\\\0 & \\frac{\\left(\\frac{2 \\Lambda r}{3} - \\frac{2 m}{r^{2}}\\right) \\left(- \\Lambda r^{3} - 6 m + 3 r\\right)}{6 r \\left(- \\frac{\\Lambda r^{2}}{3} - \\frac{2 m}{r} + 1\\right)^{2}} & 0 & 0\\\\0 & 0 & - \\frac{- \\Lambda r^{3} - 6 m + 3 r}{3 \\left(- k x^{2} + 1\\right)} & 0\\\\0 & 0 & 0 & - \\frac{x^{2} \\left(- \\Lambda r^{3} - 6 m + 3 r\\right)}{3}\\end{matrix}\\right] & \\left[\\begin{matrix}0 & 0 & 0 & 0\\\\0 & 0 & \\frac{1}{r} & 0\\\\0 & \\frac{1}{r} & \\frac{k x}{- k x^{2} + 1} & 0\\\\0 & 0 & 0 & - x \\left(- k x^{2} + 1\\right)\\end{matrix}\\right] & \\left[\\begin{matrix}0 & 0 & 0 & 0\\\\0 & 0 & 0 & \\frac{1}{r}\\\\0 & 0 & 0 & \\frac{1}{x}\\\\0 & \\frac{1}{r} & \\frac{1}{x} & 0\\end{matrix}\\right]\\end{matrix}\\right]$"
      ],
      "text/plain": [
       "[[[0, 3*r*(2*Lambda*r/3 - 2*m/r**2)/(2*(Lambda*r**3 + 6*m - 3*r)), 0, 0], [3*r*(2*Lambda*r/3 - 2*m/r**2)/(2*(Lambda*r**3 + 6*m - 3*r)), 0, 0, 0], [0, 0, 0, 0], [0, 0, 0, 0]], [[(-2*Lambda*r/3 + 2*m/r**2)*(-Lambda*r**3 - 6*m + 3*r)/(6*r), 0, 0, 0], [0, (2*Lambda*r/3 - 2*m/r**2)*(-Lambda*r**3 - 6*m + 3*r)/(6*r*(-Lambda*r**2/3 - 2*m/r + 1)**2), 0, 0], [0, 0, -(-Lambda*r**3 - 6*m + 3*r)/(3*(-k*x**2 + 1)), 0], [0, 0, 0, -x**2*(-Lambda*r**3 - 6*m + 3*r)/3]], [[0, 0, 0, 0], [0, 0, 1/r, 0], [0, 1/r, k*x/(-k*x**2 + 1), 0], [0, 0, 0, -x*(-k*x**2 + 1)]], [[0, 0, 0, 0], [0, 0, 0, 1/r], [0, 0, 0, 1/x], [0, 1/r, 1/x, 0]]]"
      ]
     },
     "execution_count": 11,
     "metadata": {},
     "output_type": "execute_result"
    }
   ],
   "source": [
    "print(\"Símbolos de Chistoffel\")\n",
    "ChristoffelSymbols.from_metric(metric_2).tensor()"
   ]
  },
  {
   "cell_type": "code",
   "execution_count": 15,
   "id": "b53bd3f5-bdf1-463c-8d4c-bcad21569d75",
   "metadata": {},
   "outputs": [
    {
     "name": "stdout",
     "output_type": "stream",
     "text": [
      "Tensor de curvatura\n"
     ]
    },
    {
     "data": {
      "text/latex": [
       "$\\displaystyle \\left[\\begin{matrix}\\left[\\begin{matrix}0 & 0 & 0 & 0\\\\0 & 0 & 0 & 0\\\\0 & 0 & 0 & 0\\\\0 & 0 & 0 & 0\\end{matrix}\\right] & \\left[\\begin{matrix}0 & \\frac{- \\Lambda r^{3} - 6 m}{r^{2} \\left(\\Lambda r^{3} + 6 m - 3 r\\right)} & 0 & 0\\\\\\frac{\\Lambda r^{3} + 6 m}{r^{2} \\left(\\Lambda r^{3} + 6 m - 3 r\\right)} & 0 & 0 & 0\\\\0 & 0 & 0 & 0\\\\0 & 0 & 0 & 0\\end{matrix}\\right] & \\left[\\begin{matrix}0 & 0 & \\frac{- \\frac{\\Lambda r^{3}}{3} + m}{r \\left(k x^{2} - 1\\right)} & 0\\\\0 & 0 & 0 & 0\\\\\\frac{\\frac{\\Lambda r^{3}}{3} - m}{r \\left(k x^{2} - 1\\right)} & 0 & 0 & 0\\\\0 & 0 & 0 & 0\\end{matrix}\\right] & \\left[\\begin{matrix}0 & 0 & 0 & \\frac{x^{2} \\left(\\frac{\\Lambda r^{3}}{3} - m\\right)}{r}\\\\0 & 0 & 0 & 0\\\\0 & 0 & 0 & 0\\\\\\frac{x^{2} \\left(- \\frac{\\Lambda r^{3}}{3} + m\\right)}{r} & 0 & 0 & 0\\end{matrix}\\right]\\\\\\left[\\begin{matrix}0 & - \\frac{\\Lambda^{2} r^{2}}{9} - \\frac{4 \\Lambda m}{3 r} + \\frac{\\Lambda}{3} - \\frac{4 m^{2}}{r^{4}} + \\frac{2 m}{r^{3}} & 0 & 0\\\\\\frac{\\Lambda^{2} r^{2}}{9} + \\frac{4 \\Lambda m}{3 r} - \\frac{\\Lambda}{3} + \\frac{4 m^{2}}{r^{4}} - \\frac{2 m}{r^{3}} & 0 & 0 & 0\\\\0 & 0 & 0 & 0\\\\0 & 0 & 0 & 0\\end{matrix}\\right] & \\left[\\begin{matrix}0 & 0 & 0 & 0\\\\0 & 0 & 0 & 0\\\\0 & 0 & 0 & 0\\\\0 & 0 & 0 & 0\\end{matrix}\\right] & \\left[\\begin{matrix}0 & 0 & 0 & 0\\\\0 & 0 & \\frac{- \\frac{\\Lambda r^{3}}{3} + m}{r \\left(k x^{2} - 1\\right)} & 0\\\\0 & \\frac{\\frac{\\Lambda r^{3}}{3} - m}{r \\left(k x^{2} - 1\\right)} & 0 & 0\\\\0 & 0 & 0 & 0\\end{matrix}\\right] & \\left[\\begin{matrix}0 & 0 & 0 & 0\\\\0 & 0 & 0 & \\frac{x^{2} \\left(\\frac{\\Lambda r^{3}}{3} - m\\right)}{r}\\\\0 & 0 & 0 & 0\\\\0 & \\frac{x^{2} \\left(- \\frac{\\Lambda r^{3}}{3} + m\\right)}{r} & 0 & 0\\end{matrix}\\right]\\\\\\left[\\begin{matrix}0 & 0 & - \\frac{\\left(\\Lambda r^{3} - 3 m\\right) \\left(\\Lambda r^{3} + 6 m - 3 r\\right)}{9 r^{4}} & 0\\\\0 & 0 & 0 & 0\\\\\\frac{\\left(\\Lambda r^{3} - 3 m\\right) \\left(\\Lambda r^{3} + 6 m - 3 r\\right)}{9 r^{4}} & 0 & 0 & 0\\\\0 & 0 & 0 & 0\\end{matrix}\\right] & \\left[\\begin{matrix}0 & 0 & 0 & 0\\\\0 & 0 & \\frac{\\Lambda r^{3} - 3 m}{r^{2} \\left(\\Lambda r^{3} + 6 m - 3 r\\right)} & 0\\\\0 & \\frac{- \\Lambda r^{3} + 3 m}{r^{2} \\left(\\Lambda r^{3} + 6 m - 3 r\\right)} & 0 & 0\\\\0 & 0 & 0 & 0\\end{matrix}\\right] & \\left[\\begin{matrix}0 & 0 & 0 & 0\\\\0 & 0 & 0 & 0\\\\0 & 0 & 0 & 0\\\\0 & 0 & 0 & 0\\end{matrix}\\right] & \\left[\\begin{matrix}0 & 0 & 0 & 0\\\\0 & 0 & 0 & 0\\\\0 & 0 & 0 & \\frac{x^{2} \\left(\\frac{\\Lambda r^{3}}{3} + k r + 2 m - r\\right)}{r}\\\\0 & 0 & \\frac{x^{2} \\left(- \\frac{\\Lambda r^{3}}{3} - k r - 2 m + r\\right)}{r} & 0\\end{matrix}\\right]\\\\\\left[\\begin{matrix}0 & 0 & 0 & - \\frac{\\left(\\Lambda r^{3} - 3 m\\right) \\left(\\Lambda r^{3} + 6 m - 3 r\\right)}{9 r^{4}}\\\\0 & 0 & 0 & 0\\\\0 & 0 & 0 & 0\\\\\\frac{\\left(\\Lambda r^{3} - 3 m\\right) \\left(\\Lambda r^{3} + 6 m - 3 r\\right)}{9 r^{4}} & 0 & 0 & 0\\end{matrix}\\right] & \\left[\\begin{matrix}0 & 0 & 0 & 0\\\\0 & 0 & 0 & \\frac{\\Lambda r^{3} - 3 m}{r^{2} \\left(\\Lambda r^{3} + 6 m - 3 r\\right)}\\\\0 & 0 & 0 & 0\\\\0 & \\frac{- \\Lambda r^{3} + 3 m}{r^{2} \\left(\\Lambda r^{3} + 6 m - 3 r\\right)} & 0 & 0\\end{matrix}\\right] & \\left[\\begin{matrix}0 & 0 & 0 & 0\\\\0 & 0 & 0 & 0\\\\0 & 0 & 0 & \\frac{\\frac{\\Lambda r^{3}}{3} + k r + 2 m - r}{r \\left(k x^{2} - 1\\right)}\\\\0 & 0 & \\frac{- \\frac{\\Lambda r^{3}}{3} - k r - 2 m + r}{r \\left(k x^{2} - 1\\right)} & 0\\end{matrix}\\right] & \\left[\\begin{matrix}0 & 0 & 0 & 0\\\\0 & 0 & 0 & 0\\\\0 & 0 & 0 & 0\\\\0 & 0 & 0 & 0\\end{matrix}\\right]\\end{matrix}\\right]$"
      ],
      "text/plain": [
       "[[[[0, 0, 0, 0], [0, 0, 0, 0], [0, 0, 0, 0], [0, 0, 0, 0]], [[0, (-Lambda*r**3 - 6*m)/(r**2*(Lambda*r**3 + 6*m - 3*r)), 0, 0], [(Lambda*r**3 + 6*m)/(r**2*(Lambda*r**3 + 6*m - 3*r)), 0, 0, 0], [0, 0, 0, 0], [0, 0, 0, 0]], [[0, 0, (-Lambda*r**3/3 + m)/(r*(k*x**2 - 1)), 0], [0, 0, 0, 0], [(Lambda*r**3/3 - m)/(r*(k*x**2 - 1)), 0, 0, 0], [0, 0, 0, 0]], [[0, 0, 0, x**2*(Lambda*r**3/3 - m)/r], [0, 0, 0, 0], [0, 0, 0, 0], [x**2*(-Lambda*r**3/3 + m)/r, 0, 0, 0]]], [[[0, -Lambda**2*r**2/9 - 4*Lambda*m/(3*r) + Lambda/3 - 4*m**2/r**4 + 2*m/r**3, 0, 0], [Lambda**2*r**2/9 + 4*Lambda*m/(3*r) - Lambda/3 + 4*m**2/r**4 - 2*m/r**3, 0, 0, 0], [0, 0, 0, 0], [0, 0, 0, 0]], [[0, 0, 0, 0], [0, 0, 0, 0], [0, 0, 0, 0], [0, 0, 0, 0]], [[0, 0, 0, 0], [0, 0, (-Lambda*r**3/3 + m)/(r*(k*x**2 - 1)), 0], [0, (Lambda*r**3/3 - m)/(r*(k*x**2 - 1)), 0, 0], [0, 0, 0, 0]], [[0, 0, 0, 0], [0, 0, 0, x**2*(Lambda*r**3/3 - m)/r], [0, 0, 0, 0], [0, x**2*(-Lambda*r**3/3 + m)/r, 0, 0]]], [[[0, 0, -(Lambda*r**3 - 3*m)*(Lambda*r**3 + 6*m - 3*r)/(9*r**4), 0], [0, 0, 0, 0], [(Lambda*r**3 - 3*m)*(Lambda*r**3 + 6*m - 3*r)/(9*r**4), 0, 0, 0], [0, 0, 0, 0]], [[0, 0, 0, 0], [0, 0, (Lambda*r**3 - 3*m)/(r**2*(Lambda*r**3 + 6*m - 3*r)), 0], [0, (-Lambda*r**3 + 3*m)/(r**2*(Lambda*r**3 + 6*m - 3*r)), 0, 0], [0, 0, 0, 0]], [[0, 0, 0, 0], [0, 0, 0, 0], [0, 0, 0, 0], [0, 0, 0, 0]], [[0, 0, 0, 0], [0, 0, 0, 0], [0, 0, 0, x**2*(Lambda*r**3/3 + k*r + 2*m - r)/r], [0, 0, x**2*(-Lambda*r**3/3 - k*r - 2*m + r)/r, 0]]], [[[0, 0, 0, -(Lambda*r**3 - 3*m)*(Lambda*r**3 + 6*m - 3*r)/(9*r**4)], [0, 0, 0, 0], [0, 0, 0, 0], [(Lambda*r**3 - 3*m)*(Lambda*r**3 + 6*m - 3*r)/(9*r**4), 0, 0, 0]], [[0, 0, 0, 0], [0, 0, 0, (Lambda*r**3 - 3*m)/(r**2*(Lambda*r**3 + 6*m - 3*r))], [0, 0, 0, 0], [0, (-Lambda*r**3 + 3*m)/(r**2*(Lambda*r**3 + 6*m - 3*r)), 0, 0]], [[0, 0, 0, 0], [0, 0, 0, 0], [0, 0, 0, (Lambda*r**3/3 + k*r + 2*m - r)/(r*(k*x**2 - 1))], [0, 0, (-Lambda*r**3/3 - k*r - 2*m + r)/(r*(k*x**2 - 1)), 0]], [[0, 0, 0, 0], [0, 0, 0, 0], [0, 0, 0, 0], [0, 0, 0, 0]]]]"
      ]
     },
     "execution_count": 15,
     "metadata": {},
     "output_type": "execute_result"
    }
   ],
   "source": [
    "Riem=RiemannCurvatureTensor.from_metric(metric_2)\n",
    "print(\"Tensor de curvatura\")\n",
    "Riem.tensor()"
   ]
  },
  {
   "cell_type": "code",
   "execution_count": 14,
   "id": "eb0f9fb4-6c95-4398-b02f-076bae01f7da",
   "metadata": {},
   "outputs": [
    {
     "name": "stdout",
     "output_type": "stream",
     "text": [
      "Escalar de  Kretschmann\n"
     ]
    },
    {
     "data": {
      "text/latex": [
       "$\\displaystyle \\frac{4 \\left(2 \\Lambda^{2} r^{6} + 2 \\Lambda k r^{4} - 2 \\Lambda r^{4} + 3 k^{2} r^{2} + 12 k m r - 6 k r^{2} + 36 m^{2} - 12 m r + 3 r^{2}\\right)}{3 r^{6}}$"
      ],
      "text/plain": [
       "4*(2*Lambda**2*r**6 + 2*Lambda*k*r**4 - 2*Lambda*r**4 + 3*k**2*r**2 + 12*k*m*r - 6*k*r**2 + 36*m**2 - 12*m*r + 3*r**2)/(3*r**6)"
      ]
     },
     "execution_count": 14,
     "metadata": {},
     "output_type": "execute_result"
    }
   ],
   "source": [
    "R_llll = Riem.change_config('llll', metric=metric_2)\n",
    "R_uuuu = Riem.change_config('uuuu', metric=metric_2)\n",
    "\n",
    "A = R_llll.tensor()  # SymPy ImmutableDenseNDimArray\n",
    "B = R_uuuu.tensor()\n",
    "\n",
    "# K = R_{abcd} R^{abcd}  -> contrae todas las 4 parejas de índices\n",
    "K = sp.tensorcontraction(sp.tensorproduct(A, B),  (0, 4), (1, 5), (2, 6), (3, 7))\n",
    "print(\"Escalar de  Kretschmann\")\n",
    "K.simplify()"
   ]
  }
 ],
 "metadata": {
  "kernelspec": {
   "display_name": "Python 3 (ipykernel)",
   "language": "python",
   "name": "python3"
  },
  "language_info": {
   "codemirror_mode": {
    "name": "ipython",
    "version": 3
   },
   "file_extension": ".py",
   "mimetype": "text/x-python",
   "name": "python",
   "nbconvert_exporter": "python",
   "pygments_lexer": "ipython3",
   "version": "3.12.8"
  }
 },
 "nbformat": 4,
 "nbformat_minor": 5
}
