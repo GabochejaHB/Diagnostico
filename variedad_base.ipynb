{
 "cells": [
  {
   "cell_type": "code",
   "execution_count": 90,
   "id": "490f5a04-e1ad-4edb-aacf-10c2fe4046e5",
   "metadata": {},
   "outputs": [],
   "source": [
    "import sympy as sp\n",
    "from sympy import symbols, sin, simplify, pprint\n",
    "from einsteinpy.symbolic import MetricTensor, ChristoffelSymbols, RiemannCurvatureTensor, RicciTensor, RicciScalar, EinsteinTensor"
   ]
  },
  {
   "cell_type": "markdown",
   "id": "b75e3a69-d6d9-45d1-acb8-af6bf5e54b85",
   "metadata": {},
   "source": [
    "# Consideremos la métrica de la variedad base:\n",
    "\n",
    "# $d\\Sigma^2(k) = \\frac{dx^2}{1 - kx^2} + x^2 dy^2.$"
   ]
  },
  {
   "cell_type": "code",
   "execution_count": 91,
   "id": "f5be7c29-99f9-4d9e-866c-fd8753f82e5b",
   "metadata": {},
   "outputs": [
    {
     "name": "stdout",
     "output_type": "stream",
     "text": [
      "Tensor métrico\n"
     ]
    },
    {
     "data": {
      "text/latex": [
       "$\\displaystyle \\left[\\begin{matrix}\\frac{1}{- k x^{2} + 1} & 0\\\\0 & x^{2}\\end{matrix}\\right]$"
      ],
      "text/plain": [
       "[[1/(-k*x**2 + 1), 0], [0, x**2]]"
      ]
     },
     "execution_count": 91,
     "metadata": {},
     "output_type": "execute_result"
    }
   ],
   "source": [
    "symbs= sp.symbols(\"x y\")\n",
    "k, r0 = sp.symbols(\"k r_0\")\n",
    "r = sp.symbols(\"r\")\n",
    "x,y =symbs\n",
    "\n",
    "m = sp.diag(1/(1-k*x**2),x**2).tolist()\n",
    "metric = MetricTensor(m, symbs)\n",
    "print(\"Tensor métrico\")\n",
    "metric.tensor()"
   ]
  },
  {
   "cell_type": "code",
   "execution_count": 93,
   "id": "d33e9497-96c3-488a-9ade-c1966e66ea61",
   "metadata": {},
   "outputs": [
    {
     "name": "stdout",
     "output_type": "stream",
     "text": [
      "Tensor métrico inverso\n"
     ]
    }
   ],
   "source": [
    "metric.inv().tensor()\n",
    "print(\"Tensor métrico inverso\")"
   ]
  },
  {
   "cell_type": "markdown",
   "id": "45837358-f928-4112-8ce9-80c4691c8743",
   "metadata": {},
   "source": [
    "# $ \\Gamma ^{\\alpha}_{\\hspace{3mm} \\beta \\gamma} = \\frac{1}{2} g^{\\alpha \\rho} (\\partial_{\\beta} g_{\\gamma \\rho} + \\partial_{\\gamma} g_{\\beta \\rho} - \\partial_{\\rho} g_{\\gamma \\beta} )$\n"
   ]
  },
  {
   "cell_type": "code",
   "execution_count": 94,
   "id": "bba09558-c955-4223-924b-71f9a2be9b38",
   "metadata": {},
   "outputs": [
    {
     "name": "stdout",
     "output_type": "stream",
     "text": [
      "Simbolos de Christoffel\n"
     ]
    },
    {
     "data": {
      "text/latex": [
       "$\\displaystyle \\left[\\begin{matrix}\\left[\\begin{matrix}\\frac{2 k x \\left(- \\frac{k x^{2}}{2} + \\frac{1}{2}\\right)}{\\left(- k x^{2} + 1\\right)^{2}} & 0\\\\0 & - 2 x \\left(- \\frac{k x^{2}}{2} + \\frac{1}{2}\\right)\\end{matrix}\\right] & \\left[\\begin{matrix}0 & \\frac{1}{x}\\\\\\frac{1}{x} & 0\\end{matrix}\\right]\\end{matrix}\\right]$"
      ],
      "text/plain": [
       "[[[2*k*x*(-k*x**2/2 + 1/2)/(-k*x**2 + 1)**2, 0], [0, -2*x*(-k*x**2/2 + 1/2)]], [[0, 1/x], [1/x, 0]]]"
      ]
     },
     "execution_count": 94,
     "metadata": {},
     "output_type": "execute_result"
    }
   ],
   "source": [
    "print(\"Simbolos de Christoffel\")\n",
    "smb_cr = ChristoffelSymbols.from_metric(metric)\n",
    "smb_cr.tensor()"
   ]
  },
  {
   "cell_type": "markdown",
   "id": "8cfcd6e0-d09a-4c06-a102-cf1e321e3b56",
   "metadata": {},
   "source": [
    "# $R^{\\rho}_{\\;\\sigma\\mu\\nu} = \\partial_\\mu \\Gamma^{\\rho}_{\\nu\\sigma} - \\partial_\\nu \\Gamma^{\\rho}_{\\mu\\sigma} + \\Gamma^{\\rho}_{\\mu\\lambda}\\Gamma^{\\lambda}_{\\nu\\sigma} - \\Gamma^{\\rho}_{\\nu\\lambda}\\Gamma^{\\lambda}_{\\mu\\sigma}$"
   ]
  },
  {
   "cell_type": "code",
   "execution_count": 95,
   "id": "02b090c1-5457-4084-af81-5f6ec54b76df",
   "metadata": {},
   "outputs": [
    {
     "name": "stdout",
     "output_type": "stream",
     "text": [
      "Tensor de Curvatura\n"
     ]
    },
    {
     "data": {
      "text/latex": [
       "$\\displaystyle \\left[\\begin{matrix}\\left[\\begin{matrix}0 & 0\\\\0 & 0\\end{matrix}\\right] & \\left[\\begin{matrix}0 & k x^{2}\\\\- k x^{2} & 0\\end{matrix}\\right]\\\\\\left[\\begin{matrix}0 & \\frac{k}{k x^{2} - 1}\\\\- \\frac{k}{k x^{2} - 1} & 0\\end{matrix}\\right] & \\left[\\begin{matrix}0 & 0\\\\0 & 0\\end{matrix}\\right]\\end{matrix}\\right]$"
      ],
      "text/plain": [
       "[[[[0, 0], [0, 0]], [[0, k*x**2], [-k*x**2, 0]]], [[[0, k/(k*x**2 - 1)], [-k/(k*x**2 - 1), 0]], [[0, 0], [0, 0]]]]"
      ]
     },
     "execution_count": 95,
     "metadata": {},
     "output_type": "execute_result"
    }
   ],
   "source": [
    "print(\"Tensor de Curvatura\")\n",
    "rm = RiemannCurvatureTensor.from_metric(metric)\n",
    "sp.simplify(rm.tensor())"
   ]
  }
 ],
 "metadata": {
  "kernelspec": {
   "display_name": "Python 3 (ipykernel)",
   "language": "python",
   "name": "python3"
  },
  "language_info": {
   "codemirror_mode": {
    "name": "ipython",
    "version": 3
   },
   "file_extension": ".py",
   "mimetype": "text/x-python",
   "name": "python",
   "nbconvert_exporter": "python",
   "pygments_lexer": "ipython3",
   "version": "3.12.8"
  }
 },
 "nbformat": 4,
 "nbformat_minor": 5
}
