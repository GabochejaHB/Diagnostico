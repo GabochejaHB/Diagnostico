{
 "cells": [
  {
   "cell_type": "code",
   "execution_count": 3,
   "id": "f7924fef-54f8-43fb-b662-032d301989f6",
   "metadata": {},
   "outputs": [],
   "source": [
    "import sympy as sp\n",
    "from sympy import symbols, sin, simplify, pprint\n",
    "from einsteinpy.symbolic import MetricTensor, ChristoffelSymbols, RiemannCurvatureTensor"
   ]
  },
  {
   "cell_type": "code",
   "execution_count": 10,
   "id": "f38b36f6-efbf-4a76-b2f0-1d4e751a36ea",
   "metadata": {},
   "outputs": [
    {
     "name": "stdout",
     "output_type": "stream",
     "text": [
      "Tensor métrico\n"
     ]
    },
    {
     "data": {
      "text/latex": [
       "$\\displaystyle \\left[\\begin{matrix}1 & 0\\\\0 & \\sin^{2}{\\left(\\theta \\right)}\\end{matrix}\\right]$"
      ],
      "text/plain": [
       "[[1, 0], [0, sin(theta)**2]]"
      ]
     },
     "execution_count": 10,
     "metadata": {},
     "output_type": "execute_result"
    }
   ],
   "source": [
    "symbs= sp.symbols(\"theta phi\")\n",
    "theta, phi=symbs\n",
    "\n",
    "m = sp.diag(1,sp.sin(theta)**2).tolist()\n",
    "metric = MetricTensor(m, symbs)\n",
    "print(\"Tensor métrico\")\n",
    "metric.tensor()"
   ]
  },
  {
   "cell_type": "markdown",
   "id": "48acc33c-2a72-43bc-b47c-4fcac8495148",
   "metadata": {},
   "source": [
    "# $ \\Gamma ^{\\alpha}_{\\hspace{3mm} \\beta \\gamma} = \\frac{1}{2} g^{\\alpha \\rho} (\\partial_{\\beta} g_{\\gamma \\rho} + \\partial_{\\gamma} g_{\\beta \\rho} - \\partial_{\\rho} g_{\\gamma \\beta} )$\n",
    "\n",
    "Los símbolos de Christoffel que entrega esta función estan ordenados por matrices. El índice de arriba etiqueta matrices (primera matriz es $\\alpha = \\theta$, segunda matriz es $\\alpha = \\phi$). Luego, los dos índices inferiores etiquetan elementos de la matriz."
   ]
  },
  {
   "cell_type": "code",
   "execution_count": 14,
   "id": "42e52f96-56aa-489c-bfc0-9bce030032f4",
   "metadata": {},
   "outputs": [
    {
     "name": "stdout",
     "output_type": "stream",
     "text": [
      "Simbolos de Christoffel\n"
     ]
    },
    {
     "data": {
      "text/latex": [
       "$\\displaystyle \\left[\\begin{matrix}\\left[\\begin{matrix}0 & 0\\\\0 & - \\sin{\\left(\\theta \\right)} \\cos{\\left(\\theta \\right)}\\end{matrix}\\right] & \\left[\\begin{matrix}0 & \\frac{\\cos{\\left(\\theta \\right)}}{\\sin{\\left(\\theta \\right)}}\\\\\\frac{\\cos{\\left(\\theta \\right)}}{\\sin{\\left(\\theta \\right)}} & 0\\end{matrix}\\right]\\end{matrix}\\right]$"
      ],
      "text/plain": [
       "[[[0, 0], [0, -sin(theta)*cos(theta)]], [[0, cos(theta)/sin(theta)], [cos(theta)/sin(theta), 0]]]"
      ]
     },
     "execution_count": 14,
     "metadata": {},
     "output_type": "execute_result"
    }
   ],
   "source": [
    "print(\"Simbolos de Christoffel\")\n",
    "smb_cr = ChristoffelSymbols.from_metric(metric)\n",
    "smb_cr.tensor()"
   ]
  }
 ],
 "metadata": {
  "kernelspec": {
   "display_name": "Python 3 (ipykernel)",
   "language": "python",
   "name": "python3"
  },
  "language_info": {
   "codemirror_mode": {
    "name": "ipython",
    "version": 3
   },
   "file_extension": ".py",
   "mimetype": "text/x-python",
   "name": "python",
   "nbconvert_exporter": "python",
   "pygments_lexer": "ipython3",
   "version": "3.12.8"
  }
 },
 "nbformat": 4,
 "nbformat_minor": 5
}
