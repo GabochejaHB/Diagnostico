{
 "cells": [
  {
   "cell_type": "code",
   "execution_count": 4,
   "id": "38272686-0dbd-44aa-a9eb-cd0820d5dbe8",
   "metadata": {},
   "outputs": [],
   "source": [
    "import sympy as sp\n",
    "from sympy import symbols, sin, simplify, pprint\n",
    "from einsteinpy.symbolic import MetricTensor, ChristoffelSymbols, RiemannCurvatureTensor, RicciTensor, RicciScalar, EinsteinTensor"
   ]
  },
  {
   "cell_type": "code",
   "execution_count": 18,
   "id": "d2fd8139-effc-4d73-8fdb-24de4dd77860",
   "metadata": {},
   "outputs": [
    {
     "name": "stdout",
     "output_type": "stream",
     "text": [
      "Tensor métrico schw\n"
     ]
    },
    {
     "data": {
      "text/latex": [
       "$\\displaystyle \\left[\\begin{matrix}-1 - \\frac{r^{2}}{l^{2}} & 0 & 0 & 0\\\\0 & \\frac{1}{1 + \\frac{r^{2}}{l^{2}}} & 0 & 0\\\\0 & 0 & r^{2} & 0\\\\0 & 0 & 0 & r^{2} \\sin{\\left(\\theta \\right)}\\end{matrix}\\right]$"
      ],
      "text/plain": [
       "[[-1 - r**2/l**2, 0, 0, 0], [0, 1/(1 + r**2/l**2), 0, 0], [0, 0, r**2, 0], [0, 0, 0, r**2*sin(theta)]]"
      ]
     },
     "execution_count": 18,
     "metadata": {},
     "output_type": "execute_result"
    }
   ],
   "source": [
    "t,r,l,theta,phi = sp.symbols(\"t r l theta phi\")\n",
    "m2 = sp.diag(-(1+r**2/l**2), 1/(1+r**2/l**2),r**2,r**2*sp.sin(theta)).tolist()\n",
    "metric = MetricTensor(m2, (t,r,theta, phi))\n",
    "print(\"Tensor métrico schw\")\n",
    "metric.tensor()"
   ]
  },
  {
   "cell_type": "code",
   "execution_count": 19,
   "id": "6c3f8153-855c-4702-bfab-4039a03ebb99",
   "metadata": {},
   "outputs": [
    {
     "name": "stdout",
     "output_type": "stream",
     "text": [
      "Tensor de Curvatura schw\n"
     ]
    },
    {
     "data": {
      "text/latex": [
       "$\\displaystyle \\left[\\begin{matrix}\\left[\\begin{matrix}0 & 0 & 0 & 0\\\\0 & 0 & 0 & 0\\\\0 & 0 & 0 & 0\\\\0 & 0 & 0 & 0\\end{matrix}\\right] & \\left[\\begin{matrix}0 & - \\frac{1}{l^{2} + r^{2}} & 0 & 0\\\\\\frac{1}{l^{2} + r^{2}} & 0 & 0 & 0\\\\0 & 0 & 0 & 0\\\\0 & 0 & 0 & 0\\end{matrix}\\right] & \\left[\\begin{matrix}0 & 0 & - \\frac{r^{2}}{l^{2}} & 0\\\\0 & 0 & 0 & 0\\\\\\frac{r^{2}}{l^{2}} & 0 & 0 & 0\\\\0 & 0 & 0 & 0\\end{matrix}\\right] & \\left[\\begin{matrix}0 & 0 & 0 & - \\frac{r^{2} \\sin{\\left(\\theta \\right)}}{l^{2}}\\\\0 & 0 & 0 & 0\\\\0 & 0 & 0 & 0\\\\\\frac{r^{2} \\sin{\\left(\\theta \\right)}}{l^{2}} & 0 & 0 & 0\\end{matrix}\\right]\\\\\\left[\\begin{matrix}0 & \\frac{- l^{2} - r^{2}}{l^{4}} & 0 & 0\\\\\\frac{l^{2} + r^{2}}{l^{4}} & 0 & 0 & 0\\\\0 & 0 & 0 & 0\\\\0 & 0 & 0 & 0\\end{matrix}\\right] & \\left[\\begin{matrix}0 & 0 & 0 & 0\\\\0 & 0 & 0 & 0\\\\0 & 0 & 0 & 0\\\\0 & 0 & 0 & 0\\end{matrix}\\right] & \\left[\\begin{matrix}0 & 0 & 0 & 0\\\\0 & 0 & - \\frac{r^{2}}{l^{2}} & 0\\\\0 & \\frac{r^{2}}{l^{2}} & 0 & 0\\\\0 & 0 & 0 & 0\\end{matrix}\\right] & \\left[\\begin{matrix}0 & 0 & 0 & 0\\\\0 & 0 & 0 & - \\frac{r^{2} \\sin{\\left(\\theta \\right)}}{l^{2}}\\\\0 & 0 & 0 & 0\\\\0 & \\frac{r^{2} \\sin{\\left(\\theta \\right)}}{l^{2}} & 0 & 0\\end{matrix}\\right]\\\\\\left[\\begin{matrix}0 & 0 & \\frac{- l^{2} - r^{2}}{l^{4}} & 0\\\\0 & 0 & 0 & 0\\\\\\frac{l^{2} + r^{2}}{l^{4}} & 0 & 0 & 0\\\\0 & 0 & 0 & 0\\end{matrix}\\right] & \\left[\\begin{matrix}0 & 0 & 0 & 0\\\\0 & 0 & \\frac{1}{l^{2} + r^{2}} & 0\\\\0 & - \\frac{1}{l^{2} + r^{2}} & 0 & 0\\\\0 & 0 & 0 & 0\\end{matrix}\\right] & \\left[\\begin{matrix}0 & 0 & 0 & 0\\\\0 & 0 & 0 & 0\\\\0 & 0 & 0 & 0\\\\0 & 0 & 0 & 0\\end{matrix}\\right] & \\left[\\begin{matrix}0 & 0 & 0 & 0\\\\0 & 0 & 0 & 0\\\\0 & 0 & 0 & - \\frac{3 \\sin{\\left(\\theta \\right)}}{4} + \\frac{1}{4 \\sin{\\left(\\theta \\right)}} - \\frac{r^{2} \\sin{\\left(\\theta \\right)}}{l^{2}}\\\\0 & 0 & \\frac{3 \\sin{\\left(\\theta \\right)}}{4} - \\frac{1}{4 \\sin{\\left(\\theta \\right)}} + \\frac{r^{2} \\sin{\\left(\\theta \\right)}}{l^{2}} & 0\\end{matrix}\\right]\\\\\\left[\\begin{matrix}0 & 0 & 0 & \\frac{- l^{2} - r^{2}}{l^{4}}\\\\0 & 0 & 0 & 0\\\\0 & 0 & 0 & 0\\\\\\frac{l^{2} + r^{2}}{l^{4}} & 0 & 0 & 0\\end{matrix}\\right] & \\left[\\begin{matrix}0 & 0 & 0 & 0\\\\0 & 0 & 0 & \\frac{1}{l^{2} + r^{2}}\\\\0 & 0 & 0 & 0\\\\0 & - \\frac{1}{l^{2} + r^{2}} & 0 & 0\\end{matrix}\\right] & \\left[\\begin{matrix}0 & 0 & 0 & 0\\\\0 & 0 & 0 & 0\\\\0 & 0 & 0 & \\frac{3}{4} - \\frac{1}{4 \\sin^{2}{\\left(\\theta \\right)}} + \\frac{r^{2}}{l^{2}}\\\\0 & 0 & - \\frac{3}{4} + \\frac{1}{4 \\sin^{2}{\\left(\\theta \\right)}} - \\frac{r^{2}}{l^{2}} & 0\\end{matrix}\\right] & \\left[\\begin{matrix}0 & 0 & 0 & 0\\\\0 & 0 & 0 & 0\\\\0 & 0 & 0 & 0\\\\0 & 0 & 0 & 0\\end{matrix}\\right]\\end{matrix}\\right]$"
      ],
      "text/plain": [
       "[[[[0, 0, 0, 0], [0, 0, 0, 0], [0, 0, 0, 0], [0, 0, 0, 0]], [[0, -1/(l**2 + r**2), 0, 0], [1/(l**2 + r**2), 0, 0, 0], [0, 0, 0, 0], [0, 0, 0, 0]], [[0, 0, -r**2/l**2, 0], [0, 0, 0, 0], [r**2/l**2, 0, 0, 0], [0, 0, 0, 0]], [[0, 0, 0, -r**2*sin(theta)/l**2], [0, 0, 0, 0], [0, 0, 0, 0], [r**2*sin(theta)/l**2, 0, 0, 0]]], [[[0, (-l**2 - r**2)/l**4, 0, 0], [(l**2 + r**2)/l**4, 0, 0, 0], [0, 0, 0, 0], [0, 0, 0, 0]], [[0, 0, 0, 0], [0, 0, 0, 0], [0, 0, 0, 0], [0, 0, 0, 0]], [[0, 0, 0, 0], [0, 0, -r**2/l**2, 0], [0, r**2/l**2, 0, 0], [0, 0, 0, 0]], [[0, 0, 0, 0], [0, 0, 0, -r**2*sin(theta)/l**2], [0, 0, 0, 0], [0, r**2*sin(theta)/l**2, 0, 0]]], [[[0, 0, (-l**2 - r**2)/l**4, 0], [0, 0, 0, 0], [(l**2 + r**2)/l**4, 0, 0, 0], [0, 0, 0, 0]], [[0, 0, 0, 0], [0, 0, 1/(l**2 + r**2), 0], [0, -1/(l**2 + r**2), 0, 0], [0, 0, 0, 0]], [[0, 0, 0, 0], [0, 0, 0, 0], [0, 0, 0, 0], [0, 0, 0, 0]], [[0, 0, 0, 0], [0, 0, 0, 0], [0, 0, 0, -3*sin(theta)/4 + 1/(4*sin(theta)) - r**2*sin(theta)/l**2], [0, 0, 3*sin(theta)/4 - 1/(4*sin(theta)) + r**2*sin(theta)/l**2, 0]]], [[[0, 0, 0, (-l**2 - r**2)/l**4], [0, 0, 0, 0], [0, 0, 0, 0], [(l**2 + r**2)/l**4, 0, 0, 0]], [[0, 0, 0, 0], [0, 0, 0, 1/(l**2 + r**2)], [0, 0, 0, 0], [0, -1/(l**2 + r**2), 0, 0]], [[0, 0, 0, 0], [0, 0, 0, 0], [0, 0, 0, 3/4 - 1/(4*sin(theta)**2) + r**2/l**2], [0, 0, -3/4 + 1/(4*sin(theta)**2) - r**2/l**2, 0]], [[0, 0, 0, 0], [0, 0, 0, 0], [0, 0, 0, 0], [0, 0, 0, 0]]]]"
      ]
     },
     "execution_count": 19,
     "metadata": {},
     "output_type": "execute_result"
    }
   ],
   "source": [
    "print(\"Tensor de Curvatura schw\")\n",
    "rm = RiemannCurvatureTensor.from_metric(metric)\n",
    "rm.tensor().simplify()"
   ]
  },
  {
   "cell_type": "code",
   "execution_count": 20,
   "id": "30d73967-c188-4870-9a9c-620e101c5fd7",
   "metadata": {},
   "outputs": [
    {
     "data": {
      "text/latex": [
       "$\\displaystyle \\left[\\begin{matrix}\\left[\\begin{matrix}0 & 0 & 0 & 0\\\\0 & 0 & 0 & 0\\\\0 & 0 & 0 & 0\\\\0 & 0 & 0 & 0\\end{matrix}\\right] & \\left[\\begin{matrix}0 & \\frac{1}{l^{2}} & 0 & 0\\\\- \\frac{1}{l^{2}} & 0 & 0 & 0\\\\0 & 0 & 0 & 0\\\\0 & 0 & 0 & 0\\end{matrix}\\right] & \\left[\\begin{matrix}0 & 0 & \\frac{r^{2} \\left(l^{2} + r^{2}\\right)}{l^{4}} & 0\\\\0 & 0 & 0 & 0\\\\\\frac{r^{2} \\left(- l^{2} - r^{2}\\right)}{l^{4}} & 0 & 0 & 0\\\\0 & 0 & 0 & 0\\end{matrix}\\right] & \\left[\\begin{matrix}0 & 0 & 0 & \\frac{r^{2} \\left(l^{2} + r^{2}\\right) \\sin{\\left(\\theta \\right)}}{l^{4}}\\\\0 & 0 & 0 & 0\\\\0 & 0 & 0 & 0\\\\- \\frac{r^{2} \\left(l^{2} + r^{2}\\right) \\sin{\\left(\\theta \\right)}}{l^{4}} & 0 & 0 & 0\\end{matrix}\\right]\\\\\\left[\\begin{matrix}0 & - \\frac{1}{l^{2}} & 0 & 0\\\\\\frac{1}{l^{2}} & 0 & 0 & 0\\\\0 & 0 & 0 & 0\\\\0 & 0 & 0 & 0\\end{matrix}\\right] & \\left[\\begin{matrix}0 & 0 & 0 & 0\\\\0 & 0 & 0 & 0\\\\0 & 0 & 0 & 0\\\\0 & 0 & 0 & 0\\end{matrix}\\right] & \\left[\\begin{matrix}0 & 0 & 0 & 0\\\\0 & 0 & - \\frac{r^{2}}{l^{2} + r^{2}} & 0\\\\0 & \\frac{r^{2}}{l^{2} + r^{2}} & 0 & 0\\\\0 & 0 & 0 & 0\\end{matrix}\\right] & \\left[\\begin{matrix}0 & 0 & 0 & 0\\\\0 & 0 & 0 & - \\frac{r^{2} \\sin{\\left(\\theta \\right)}}{l^{2} + r^{2}}\\\\0 & 0 & 0 & 0\\\\0 & \\frac{r^{2} \\sin{\\left(\\theta \\right)}}{l^{2} + r^{2}} & 0 & 0\\end{matrix}\\right]\\\\\\left[\\begin{matrix}0 & 0 & \\frac{r^{2} \\left(- l^{2} - r^{2}\\right)}{l^{4}} & 0\\\\0 & 0 & 0 & 0\\\\\\frac{r^{2} \\left(l^{2} + r^{2}\\right)}{l^{4}} & 0 & 0 & 0\\\\0 & 0 & 0 & 0\\end{matrix}\\right] & \\left[\\begin{matrix}0 & 0 & 0 & 0\\\\0 & 0 & \\frac{r^{2}}{l^{2} + r^{2}} & 0\\\\0 & - \\frac{r^{2}}{l^{2} + r^{2}} & 0 & 0\\\\0 & 0 & 0 & 0\\end{matrix}\\right] & \\left[\\begin{matrix}0 & 0 & 0 & 0\\\\0 & 0 & 0 & 0\\\\0 & 0 & 0 & 0\\\\0 & 0 & 0 & 0\\end{matrix}\\right] & \\left[\\begin{matrix}0 & 0 & 0 & 0\\\\0 & 0 & 0 & 0\\\\0 & 0 & 0 & - \\frac{3 r^{2} \\sin{\\left(\\theta \\right)}}{4} + \\frac{r^{2}}{4 \\sin{\\left(\\theta \\right)}} - \\frac{r^{4} \\sin{\\left(\\theta \\right)}}{l^{2}}\\\\0 & 0 & \\frac{3 r^{2} \\sin{\\left(\\theta \\right)}}{4} - \\frac{r^{2}}{4 \\sin{\\left(\\theta \\right)}} + \\frac{r^{4} \\sin{\\left(\\theta \\right)}}{l^{2}} & 0\\end{matrix}\\right]\\\\\\left[\\begin{matrix}0 & 0 & 0 & - \\frac{r^{2} \\left(l^{2} + r^{2}\\right) \\sin{\\left(\\theta \\right)}}{l^{4}}\\\\0 & 0 & 0 & 0\\\\0 & 0 & 0 & 0\\\\\\frac{r^{2} \\left(l^{2} + r^{2}\\right) \\sin{\\left(\\theta \\right)}}{l^{4}} & 0 & 0 & 0\\end{matrix}\\right] & \\left[\\begin{matrix}0 & 0 & 0 & 0\\\\0 & 0 & 0 & \\frac{r^{2} \\sin{\\left(\\theta \\right)}}{l^{2} + r^{2}}\\\\0 & 0 & 0 & 0\\\\0 & - \\frac{r^{2} \\sin{\\left(\\theta \\right)}}{l^{2} + r^{2}} & 0 & 0\\end{matrix}\\right] & \\left[\\begin{matrix}0 & 0 & 0 & 0\\\\0 & 0 & 0 & 0\\\\0 & 0 & 0 & \\frac{3 r^{2} \\sin{\\left(\\theta \\right)}}{4} - \\frac{r^{2}}{4 \\sin{\\left(\\theta \\right)}} + \\frac{r^{4} \\sin{\\left(\\theta \\right)}}{l^{2}}\\\\0 & 0 & - \\frac{3 r^{2} \\sin{\\left(\\theta \\right)}}{4} + \\frac{r^{2}}{4 \\sin{\\left(\\theta \\right)}} - \\frac{r^{4} \\sin{\\left(\\theta \\right)}}{l^{2}} & 0\\end{matrix}\\right] & \\left[\\begin{matrix}0 & 0 & 0 & 0\\\\0 & 0 & 0 & 0\\\\0 & 0 & 0 & 0\\\\0 & 0 & 0 & 0\\end{matrix}\\right]\\end{matrix}\\right]$"
      ],
      "text/plain": [
       "[[[[0, 0, 0, 0], [0, 0, 0, 0], [0, 0, 0, 0], [0, 0, 0, 0]], [[0, l**(-2), 0, 0], [-1/l**2, 0, 0, 0], [0, 0, 0, 0], [0, 0, 0, 0]], [[0, 0, r**2*(l**2 + r**2)/l**4, 0], [0, 0, 0, 0], [r**2*(-l**2 - r**2)/l**4, 0, 0, 0], [0, 0, 0, 0]], [[0, 0, 0, r**2*(l**2 + r**2)*sin(theta)/l**4], [0, 0, 0, 0], [0, 0, 0, 0], [-r**2*(l**2 + r**2)*sin(theta)/l**4, 0, 0, 0]]], [[[0, -1/l**2, 0, 0], [l**(-2), 0, 0, 0], [0, 0, 0, 0], [0, 0, 0, 0]], [[0, 0, 0, 0], [0, 0, 0, 0], [0, 0, 0, 0], [0, 0, 0, 0]], [[0, 0, 0, 0], [0, 0, -r**2/(l**2 + r**2), 0], [0, r**2/(l**2 + r**2), 0, 0], [0, 0, 0, 0]], [[0, 0, 0, 0], [0, 0, 0, -r**2*sin(theta)/(l**2 + r**2)], [0, 0, 0, 0], [0, r**2*sin(theta)/(l**2 + r**2), 0, 0]]], [[[0, 0, r**2*(-l**2 - r**2)/l**4, 0], [0, 0, 0, 0], [r**2*(l**2 + r**2)/l**4, 0, 0, 0], [0, 0, 0, 0]], [[0, 0, 0, 0], [0, 0, r**2/(l**2 + r**2), 0], [0, -r**2/(l**2 + r**2), 0, 0], [0, 0, 0, 0]], [[0, 0, 0, 0], [0, 0, 0, 0], [0, 0, 0, 0], [0, 0, 0, 0]], [[0, 0, 0, 0], [0, 0, 0, 0], [0, 0, 0, -3*r**2*sin(theta)/4 + r**2/(4*sin(theta)) - r**4*sin(theta)/l**2], [0, 0, 3*r**2*sin(theta)/4 - r**2/(4*sin(theta)) + r**4*sin(theta)/l**2, 0]]], [[[0, 0, 0, -r**2*(l**2 + r**2)*sin(theta)/l**4], [0, 0, 0, 0], [0, 0, 0, 0], [r**2*(l**2 + r**2)*sin(theta)/l**4, 0, 0, 0]], [[0, 0, 0, 0], [0, 0, 0, r**2*sin(theta)/(l**2 + r**2)], [0, 0, 0, 0], [0, -r**2*sin(theta)/(l**2 + r**2), 0, 0]], [[0, 0, 0, 0], [0, 0, 0, 0], [0, 0, 0, 3*r**2*sin(theta)/4 - r**2/(4*sin(theta)) + r**4*sin(theta)/l**2], [0, 0, -3*r**2*sin(theta)/4 + r**2/(4*sin(theta)) - r**4*sin(theta)/l**2, 0]], [[0, 0, 0, 0], [0, 0, 0, 0], [0, 0, 0, 0], [0, 0, 0, 0]]]]"
      ]
     },
     "execution_count": 20,
     "metadata": {},
     "output_type": "execute_result"
    }
   ],
   "source": [
    "R_llll = rm.change_config('llll', metric=metric)\n",
    "R_llll.tensor()"
   ]
  },
  {
   "cell_type": "code",
   "execution_count": null,
   "id": "333d55cf-9dfc-4332-80d4-880f6a4169d0",
   "metadata": {},
   "outputs": [],
   "source": []
  }
 ],
 "metadata": {
  "kernelspec": {
   "display_name": "Python 3 (ipykernel)",
   "language": "python",
   "name": "python3"
  },
  "language_info": {
   "codemirror_mode": {
    "name": "ipython",
    "version": 3
   },
   "file_extension": ".py",
   "mimetype": "text/x-python",
   "name": "python",
   "nbconvert_exporter": "python",
   "pygments_lexer": "ipython3",
   "version": "3.12.8"
  }
 },
 "nbformat": 4,
 "nbformat_minor": 5
}
