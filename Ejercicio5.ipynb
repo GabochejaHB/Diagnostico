{
 "cells": [
  {
   "cell_type": "code",
   "execution_count": 14,
   "id": "fc3bbf36-4a64-4b85-ad3b-51ff6c98899f",
   "metadata": {},
   "outputs": [],
   "source": [
    "import sympy as sp\n",
    "#Definimos variables\n",
    "r, theta, phi, t, E0, k, omega, mu0, epsilon0, d, u, R, epsilon, z, I, rho = sp.symbols('r theta phi t E0 k omega mu0 epsilon0 d u R epsilon z I rho')\n",
    "\n",
    "#Definimos las componentes del campo eléctrico\n",
    "E_phi = E0 * sp.sin(theta) / r * (sp.cos(k * r - omega * t) - (1 / (k * r)) * sp.sin(k * r - omega * t))\n",
    "\n",
    "#Reorganizamos componentes en un array. Usaremos la notación (r, theta, phi)\n",
    "E = sp.Matrix([0,0,E_phi])\n",
    "\n",
    "#Definimos función divergencia en coord esféricas\n",
    "def divergencia(X):\n",
    "    a,b,c = X[0], X[1], X[2]\n",
    "    dr = sp.diff(r**2 * a,r)\n",
    "    r_part = 1/r**2 * dr\n",
    "    dtheta = sp.diff(b* sp.sin(theta),theta)\n",
    "    theta_part = 1/(r*sp.sin(theta)) * dtheta\n",
    "    dphi = sp.diff(c,phi)\n",
    "    phi_part = 1/(r*sp.sin(theta)) * dphi\n",
    "    return r_part + theta_part + phi_part\n",
    "    \n",
    "#Definimos función rotor en coord esféricas\n",
    "def rotor(X):\n",
    "    a,b,c = X[0], X[1], X[2]\n",
    "    k_r = 1/(r* sp.sin(theta)) * (sp.diff(sp.sin(theta) * c, theta) - sp.diff(r*b,phi))\n",
    "    k_theta = 1/(r* sp.sin(theta)) *sp.diff(a,phi) - 1/r * sp.diff(r*c,r)\n",
    "    k_phi = 1/r * (sp.diff(r*b,r) - sp.diff(a,theta))\n",
    "    return sp.Matrix([k_r, k_theta, k_phi])"
   ]
  },
  {
   "cell_type": "markdown",
   "id": "466df47b-4c55-4755-af3b-e799ac67f016",
   "metadata": {},
   "source": [
    "# Ecuación  $\\vec{\\nabla} \\cdot \\vec{E} = 0$"
   ]
  },
  {
   "cell_type": "code",
   "execution_count": 15,
   "id": "1c89827f-d1ef-4a3d-b006-d4951d05335a",
   "metadata": {},
   "outputs": [
    {
     "data": {
      "text/latex": [
       "$\\displaystyle 0$"
      ],
      "text/plain": [
       "0"
      ]
     },
     "execution_count": 15,
     "metadata": {},
     "output_type": "execute_result"
    }
   ],
   "source": [
    "#Divergencia E\n",
    "divergencia(E)"
   ]
  },
  {
   "cell_type": "markdown",
   "id": "3daa86e8-2ae2-40a5-bc77-7105c3ba97b5",
   "metadata": {},
   "source": [
    "# Ecuación $\\vec{\\nabla} \\times \\vec{E} = - \\frac{\\partial  \\vec{B}}{\\partial t}$"
   ]
  },
  {
   "cell_type": "code",
   "execution_count": 6,
   "id": "62d62242-6d4c-4977-9ae1-d53ad58d2daf",
   "metadata": {},
   "outputs": [],
   "source": [
    "rotor_E = rotor(E)\n",
    "B_t = sp.simplify(sp.diff(B,t))"
   ]
  },
  {
   "cell_type": "code",
   "execution_count": 4,
   "id": "fd76008a-d4c0-4c95-b22a-0f49138e327e",
   "metadata": {},
   "outputs": [
    {
     "data": {
      "text/latex": [
       "$\\displaystyle \\left[\\begin{matrix}\\frac{2 E_{0} \\left(\\cos{\\left(k r - \\omega t \\right)} - \\frac{\\sin{\\left(k r - \\omega t \\right)}}{k r}\\right) \\cos{\\left(\\theta \\right)}}{r^{2}}\\\\- \\frac{E_{0} \\left(- k \\sin{\\left(k r - \\omega t \\right)} - \\frac{\\cos{\\left(k r - \\omega t \\right)}}{r} + \\frac{\\sin{\\left(k r - \\omega t \\right)}}{k r^{2}}\\right) \\sin{\\left(\\theta \\right)}}{r}\\\\0\\end{matrix}\\right]$"
      ],
      "text/plain": [
       "Matrix([\n",
       "[                         2*E0*(cos(k*r - omega*t) - sin(k*r - omega*t)/(k*r))*cos(theta)/r**2],\n",
       "[-E0*(-k*sin(k*r - omega*t) - cos(k*r - omega*t)/r + sin(k*r - omega*t)/(k*r**2))*sin(theta)/r],\n",
       "[                                                                                            0]])"
      ]
     },
     "execution_count": 4,
     "metadata": {},
     "output_type": "execute_result"
    }
   ],
   "source": [
    "#Rotor E\n",
    "rotor_E"
   ]
  },
  {
   "cell_type": "markdown",
   "id": "de49e121-bd34-4476-9b04-48d67d2b0022",
   "metadata": {},
   "source": [
    "La ley de Faraday nos permite definir la forma del campo magnético"
   ]
  },
  {
   "cell_type": "code",
   "execution_count": 13,
   "id": "1cbdbb7e-85ab-4a78-8b79-4203474bff7d",
   "metadata": {},
   "outputs": [],
   "source": [
    "#Definimos las componentes del campo magnético\n",
    "B_theta = E0*sp.sin(theta)/(omega *r) * ((1/(k*r**2)-k)*sp.cos(k*r - omega* t) + 1/r * sp.sin(k*r - omega *t))\n",
    "B_r = 2*E0*sp.cos(theta)/(omega*r**2) * (sp.sin(k*r - omega*t) + 1/(k*r)*sp.cos(k*r - omega *t))\n",
    "\n",
    "#Reorganizamos componentes en un array. Usaremos la notación (r, theta, phi)\n",
    "B = sp.Matrix([B_r, B_theta,0])"
   ]
  },
  {
   "cell_type": "markdown",
   "id": "8e3168cb-42d0-4a28-8c31-e9680cc7f2ed",
   "metadata": {},
   "source": [
    "# Ecuación  $\\vec{\\nabla} \\cdot \\vec{B} = 0$"
   ]
  },
  {
   "cell_type": "code",
   "execution_count": 19,
   "id": "704630b9-f58f-426b-b0b1-880f8c58cac9",
   "metadata": {},
   "outputs": [
    {
     "data": {
      "text/latex": [
       "$\\displaystyle \\frac{2 E_{0} \\left(\\left(- k + \\frac{1}{k r^{2}}\\right) \\cos{\\left(k r - \\omega t \\right)} + \\frac{\\sin{\\left(k r - \\omega t \\right)}}{r}\\right) \\cos{\\left(\\theta \\right)}}{\\omega r^{2}} + \\frac{2 E_{0} \\left(k \\cos{\\left(k r - \\omega t \\right)} - \\frac{\\sin{\\left(k r - \\omega t \\right)}}{r} - \\frac{\\cos{\\left(k r - \\omega t \\right)}}{k r^{2}}\\right) \\cos{\\left(\\theta \\right)}}{\\omega r^{2}}$"
      ],
      "text/plain": [
       "2*E0*((-k + 1/(k*r**2))*cos(k*r - omega*t) + sin(k*r - omega*t)/r)*cos(theta)/(omega*r**2) + 2*E0*(k*cos(k*r - omega*t) - sin(k*r - omega*t)/r - cos(k*r - omega*t)/(k*r**2))*cos(theta)/(omega*r**2)"
      ]
     },
     "execution_count": 19,
     "metadata": {},
     "output_type": "execute_result"
    }
   ],
   "source": [
    "#Divergencia B\n",
    "divergencia(B)"
   ]
  },
  {
   "cell_type": "code",
   "execution_count": 20,
   "id": "45ad5ca9-f15b-4e07-b00c-94c5e9bae498",
   "metadata": {},
   "outputs": [
    {
     "data": {
      "text/latex": [
       "$\\displaystyle 0$"
      ],
      "text/plain": [
       "0"
      ]
     },
     "execution_count": 20,
     "metadata": {},
     "output_type": "execute_result"
    }
   ],
   "source": [
    "#Expresión simplificada\n",
    "sp.simplify(divergencia(B))"
   ]
  },
  {
   "cell_type": "markdown",
   "id": "57dec14f-8681-465c-b938-98be68ee6b8f",
   "metadata": {},
   "source": [
    "# Ecuación $\\vec{\\nabla} \\times \\vec{B} = \\frac{1}{c^2} \\frac{\\partial \\vec{E}}{\\partial t}$"
   ]
  },
  {
   "cell_type": "code",
   "execution_count": 22,
   "id": "cf587899-dd8e-4e4b-9a53-c859edd30150",
   "metadata": {},
   "outputs": [
    {
     "data": {
      "text/latex": [
       "$\\displaystyle \\left[\\begin{matrix}0\\\\0\\\\\\frac{E_{0} k \\left(k r \\sin{\\left(k r - \\omega t \\right)} + \\cos{\\left(k r - \\omega t \\right)}\\right) \\sin{\\left(\\theta \\right)}}{\\omega r^{2}}\\end{matrix}\\right]$"
      ],
      "text/plain": [
       "Matrix([\n",
       "[                                                                         0],\n",
       "[                                                                         0],\n",
       "[E0*k*(k*r*sin(k*r - omega*t) + cos(k*r - omega*t))*sin(theta)/(omega*r**2)]])"
      ]
     },
     "execution_count": 22,
     "metadata": {},
     "output_type": "execute_result"
    }
   ],
   "source": [
    "#Rotor B\n",
    "Rotor_B = rotor(B)\n",
    "sp.simplify(Rotor_B)"
   ]
  },
  {
   "cell_type": "code",
   "execution_count": 24,
   "id": "4ae19890-bc52-4ce7-a061-535f40313297",
   "metadata": {},
   "outputs": [
    {
     "data": {
      "text/latex": [
       "$\\displaystyle \\left[\\begin{matrix}0\\\\0\\\\\\frac{E_{0} \\left(\\omega \\sin{\\left(k r - \\omega t \\right)} + \\frac{\\omega \\cos{\\left(k r - \\omega t \\right)}}{k r}\\right) \\sin{\\left(\\theta \\right)}}{r}\\end{matrix}\\right]$"
      ],
      "text/plain": [
       "Matrix([\n",
       "[                                                                          0],\n",
       "[                                                                          0],\n",
       "[E0*(omega*sin(k*r - omega*t) + omega*cos(k*r - omega*t)/(k*r))*sin(theta)/r]])"
      ]
     },
     "execution_count": 24,
     "metadata": {},
     "output_type": "execute_result"
    }
   ],
   "source": [
    "# Derivada de E respecto t\n",
    "E_t = sp.diff(E, t)\n",
    "E_t"
   ]
  },
  {
   "cell_type": "markdown",
   "id": "656a01ed-1fe7-4813-ba32-75a619a1507b",
   "metadata": {},
   "source": [
    "# Vector de Poynting\n"
   ]
  },
  {
   "cell_type": "code",
   "execution_count": 26,
   "id": "096c7654-23f7-4ac1-a35e-f29cd8c2810f",
   "metadata": {},
   "outputs": [
    {
     "data": {
      "text/latex": [
       "$\\displaystyle \\left[\\begin{matrix}- \\frac{E_{0}^{2} \\left(\\left(- k + \\frac{1}{k r^{2}}\\right) \\cos{\\left(k r - \\omega t \\right)} + \\frac{\\sin{\\left(k r - \\omega t \\right)}}{r}\\right) \\left(\\cos{\\left(k r - \\omega t \\right)} - \\frac{\\sin{\\left(k r - \\omega t \\right)}}{k r}\\right) \\sin^{2}{\\left(\\theta \\right)}}{\\mu_{0} \\omega r^{2}}\\\\\\frac{2 E_{0}^{2} \\left(\\sin{\\left(k r - \\omega t \\right)} + \\frac{\\cos{\\left(k r - \\omega t \\right)}}{k r}\\right) \\left(\\cos{\\left(k r - \\omega t \\right)} - \\frac{\\sin{\\left(k r - \\omega t \\right)}}{k r}\\right) \\sin{\\left(\\theta \\right)} \\cos{\\left(\\theta \\right)}}{\\mu_{0} \\omega r^{3}}\\\\0\\end{matrix}\\right]$"
      ],
      "text/plain": [
       "Matrix([\n",
       "[-E0**2*((-k + 1/(k*r**2))*cos(k*r - omega*t) + sin(k*r - omega*t)/r)*(cos(k*r - omega*t) - sin(k*r - omega*t)/(k*r))*sin(theta)**2/(mu0*omega*r**2)],\n",
       "[     2*E0**2*(sin(k*r - omega*t) + cos(k*r - omega*t)/(k*r))*(cos(k*r - omega*t) - sin(k*r - omega*t)/(k*r))*sin(theta)*cos(theta)/(mu0*omega*r**3)],\n",
       "[                                                                                                                                                  0]])"
      ]
     },
     "execution_count": 26,
     "metadata": {},
     "output_type": "execute_result"
    }
   ],
   "source": [
    "#Definimos función producto cruz en cilíndricas\n",
    "def cruz_cilindricas(A, B):\n",
    "    return sp.Matrix([(A[1]*B[2] - A[2]*B[1]),(A[2]*B[0] - A[0]*B[2]),(A[0]*B[1] - A[1]*B[0])])\n",
    "\n",
    "#Definimos vector de Poynting\n",
    "S = 1/mu0 * cruz_cilindricas(E,B)\n",
    "S"
   ]
  }
 ],
 "metadata": {
  "kernelspec": {
   "display_name": "Python 3 (ipykernel)",
   "language": "python",
   "name": "python3"
  },
  "language_info": {
   "codemirror_mode": {
    "name": "ipython",
    "version": 3
   },
   "file_extension": ".py",
   "mimetype": "text/x-python",
   "name": "python",
   "nbconvert_exporter": "python",
   "pygments_lexer": "ipython3",
   "version": "3.12.8"
  }
 },
 "nbformat": 4,
 "nbformat_minor": 5
}
